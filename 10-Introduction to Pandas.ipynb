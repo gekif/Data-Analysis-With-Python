{
 "nbformat": 4,
 "nbformat_minor": 0,
 "metadata": {
  "colab": {
   "provenance": []
  },
  "kernelspec": {
   "name": "python3",
   "display_name": "Python 3"
  },
  "language_info": {
   "name": "python"
  }
 },
 "cells": [
  {
   "cell_type": "markdown",
   "source": [
    "# Introduction to Pandas"
   ],
   "metadata": {
    "id": "GI-M7W4T0Zvo"
   }
  },
  {
   "cell_type": "markdown",
   "source": [
    "Pandas adalah sebuah library open-source yang menyediakan berbagai alat dan struktur data untuk analisis data di Python. Pandas memiliki banyak fitur yang menarik, salah satunya adalah \"Series\"."
   ],
   "metadata": {
    "id": "HflFW9kk4dDA"
   }
  },
  {
   "cell_type": "markdown",
   "source": [
    "## Introduction to the Pandas library"
   ],
   "metadata": {
    "id": "ITaxpEqr0cy4"
   }
  },
  {
   "cell_type": "code",
   "metadata": {
    "id": "ukVlhMT_0V56",
    "executionInfo": {
     "status": "ok",
     "timestamp": 1693136226388,
     "user_tz": -420,
     "elapsed": 556,
     "user": {
      "displayName": "Xnvl S",
      "userId": "09625641944926601818"
     }
    },
    "ExecuteTime": {
     "end_time": "2025-06-28T04:09:29.855249Z",
     "start_time": "2025-06-28T04:09:28.554435Z"
    }
   },
   "source": [
    "# mengimport library pandas dengan alias pd\n",
    "import pandas as pd"
   ],
   "outputs": [],
   "execution_count": 2
  },
  {
   "cell_type": "markdown",
   "source": [
    "## Series data structure in Pandas"
   ],
   "metadata": {
    "id": "i14IOLKE1ShP"
   }
  },
  {
   "cell_type": "markdown",
   "source": [
    "Series adalah salah satu struktur data utama dalam Pandas. Series mirip dengan array satu dimensi atau kolom dalam spreadsheet. Setiap elemen dalam Series memiliki label atau indeks yang unik."
   ],
   "metadata": {
    "id": "Nvihehqz45HC"
   }
  },
  {
   "cell_type": "markdown",
   "source": [
    "## Creating and accessing Series objects"
   ],
   "metadata": {
    "id": "46oeV6AJ1XCv"
   }
  },
  {
   "cell_type": "code",
   "source": [
    "# Membuat objek Series\n",
    "siswa = pd.Series([85, 90, 92, 88, 95])\n",
    "print(siswa)"
   ],
   "metadata": {
    "colab": {
     "base_uri": "https://localhost:8080/"
    },
    "id": "VvdQzVkd49wI",
    "executionInfo": {
     "status": "ok",
     "timestamp": 1693136228002,
     "user_tz": -420,
     "elapsed": 5,
     "user": {
      "displayName": "Xnvl S",
      "userId": "09625641944926601818"
     }
    },
    "outputId": "1574adab-c2d4-4ebf-a423-23d943f28a8c",
    "ExecuteTime": {
     "end_time": "2025-06-28T04:09:39.098108Z",
     "start_time": "2025-06-28T04:09:39.087176Z"
    }
   },
   "outputs": [
    {
     "name": "stdout",
     "output_type": "stream",
     "text": [
      "0    85\n",
      "1    90\n",
      "2    92\n",
      "3    88\n",
      "4    95\n",
      "dtype: int64\n"
     ]
    }
   ],
   "execution_count": 3
  },
  {
   "cell_type": "code",
   "source": [
    "# Membuat objek Series\n",
    "siswa = pd.Series([85, 90, 92, 88, 95])\n",
    "\n",
    "# Mengakses elemen dengan indeks numerik\n",
    "print(siswa[2])  # Output: 92\n",
    "\n",
    "# Mengakses elemen dengan label indeks\n",
    "print(siswa[0])  # Output: 85\n"
   ],
   "metadata": {
    "colab": {
     "base_uri": "https://localhost:8080/"
    },
    "id": "VCaEEIIj5F7s",
    "executionInfo": {
     "status": "ok",
     "timestamp": 1693136253240,
     "user_tz": -420,
     "elapsed": 360,
     "user": {
      "displayName": "Xnvl S",
      "userId": "09625641944926601818"
     }
    },
    "outputId": "24397e23-fc8f-4a88-b611-bb68afc1e7c7",
    "ExecuteTime": {
     "end_time": "2025-06-28T04:09:42.199745Z",
     "start_time": "2025-06-28T04:09:42.190227Z"
    }
   },
   "outputs": [
    {
     "name": "stdout",
     "output_type": "stream",
     "text": [
      "92\n",
      "85\n"
     ]
    }
   ],
   "execution_count": 4
  }
 ]
}
