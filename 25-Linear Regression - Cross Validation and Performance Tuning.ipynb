{
 "nbformat": 4,
 "nbformat_minor": 0,
 "metadata": {
  "colab": {
   "provenance": [],
   "authorship_tag": "ABX9TyOGkfJzxioHnczC8a5MbaqK"
  },
  "kernelspec": {
   "name": "python3",
   "display_name": "Python 3"
  },
  "language_info": {
   "name": "python"
  }
 },
 "cells": [
  {
   "cell_type": "markdown",
   "source": [
    "# Linear Regression - Cross Validation and Performance Tuning"
   ],
   "metadata": {
    "id": "sVjA_OMYBqTi"
   }
  },
  {
   "cell_type": "markdown",
   "source": [
    "## Kode Tahapan Sebelumnya"
   ],
   "metadata": {
    "id": "MS8n7xYeGNpC"
   }
  },
  {
   "cell_type": "code",
   "source": [
    "import pandas as pd\n",
    "import numpy as np\n",
    "\n",
    "from sklearn.model_selection import train_test_split\n",
    "from sklearn.preprocessing import StandardScaler\n",
    "\n",
    "# Generate data random untuk contoh dataset\n",
    "np.random.seed(42)\n",
    "land_area = np.random.randint(100, 500, size=200)\n",
    "house_price = 150000 + 300 * land_area + np.random.randint(-50000, 50000, size=200)\n",
    "\n",
    "data = pd.DataFrame({'Luas_Tanah': land_area, 'Harga_Rumah': house_price})\n",
    "\n",
    "# Pisahkan variabel dependen (Y) dan independen (X)\n",
    "X = data[['Luas_Tanah']]\n",
    "y = data['Harga_Rumah']\n",
    "\n",
    "# Pisahkan data menjadi data latih dan data uji\n",
    "X_train, X_test, y_train, y_test = train_test_split(X, y, test_size=0.2, random_state=42)\n",
    "\n",
    "# Normalisasi data menggunakan StandardScaler\n",
    "scaler = StandardScaler()\n",
    "X_train_scaled = scaler.fit_transform(X_train)\n",
    "X_test_scaled = scaler.transform(X_test)\n",
    "\n",
    "print(\"X Train\", X_train)\n",
    "\n",
    "print(\"Y Train\", y_train)\n",
    "\n",
    "from sklearn.linear_model import Lasso, Ridge\n",
    "from sklearn.feature_selection import SelectKBest, f_regression\n",
    "from sklearn.metrics import mean_squared_error\n",
    "\n",
    "# Contoh Feature Selection dengan Univariate Feature Selection\n",
    "selector = SelectKBest(score_func=f_regression, k=\"all\")\n",
    "X_train_selected = selector.fit_transform(X_train_scaled, y_train)\n",
    "X_test_selected = selector.transform(X_test_scaled)\n",
    "\n",
    "# Contoh Regularization dengan Lasso Regression\n",
    "lasso_model = Lasso(alpha=0.01)\n",
    "lasso_model.fit(X_train_selected, y_train)\n",
    "lasso_mse = mean_squared_error(y_test, lasso_model.predict(X_test_selected))\n",
    "\n",
    "# Contoh Regularization dengan Ridge Regression\n",
    "ridge_model = Ridge(alpha=0.01)\n",
    "ridge_model.fit(X_train_selected, y_train)\n",
    "ridge_mse = mean_squared_error(y_test, ridge_model.predict(X_test_selected))\n",
    "\n",
    "print(\"Lasso Regression MSE:\", lasso_mse)\n",
    "print(\"Ridge Regression MSE:\", ridge_mse)\n"
   ],
   "metadata": {
    "colab": {
     "base_uri": "https://localhost:8080/"
    },
    "id": "vlA9Zv1JGRC7",
    "executionInfo": {
     "status": "ok",
     "timestamp": 1690806742875,
     "user_tz": -420,
     "elapsed": 347,
     "user": {
      "displayName": "Rian Febriansyah",
      "userId": "09249289355477225882"
     }
    },
    "outputId": "bcb76ebb-f648-449a-a209-25674bf9e5ee",
    "ExecuteTime": {
     "end_time": "2025-06-29T10:13:08.842056Z",
     "start_time": "2025-06-29T10:13:06.351900Z"
    }
   },
   "outputs": [
    {
     "name": "stdout",
     "output_type": "stream",
     "text": [
      "X Train      Luas_Tanah\n",
      "79          301\n",
      "197         458\n",
      "38          150\n",
      "24          376\n",
      "122         300\n",
      "..          ...\n",
      "106         108\n",
      "14          459\n",
      "92          466\n",
      "179         127\n",
      "102         400\n",
      "\n",
      "[160 rows x 1 columns]\n",
      "Y Train 79     212218\n",
      "197    273177\n",
      "38     197662\n",
      "24     239536\n",
      "122    240108\n",
      "        ...  \n",
      "106    145274\n",
      "14     277053\n",
      "92     269655\n",
      "179    204335\n",
      "102    226295\n",
      "Name: Harga_Rumah, Length: 160, dtype: int32\n",
      "Lasso Regression MSE: 833819407.7700809\n",
      "Ridge Regression MSE: 833813011.9268351\n"
     ]
    }
   ],
   "execution_count": 1
  },
  {
   "cell_type": "markdown",
   "source": [
    "## Cross Validation"
   ],
   "metadata": {
    "id": "8hgMnYQo7QYl"
   }
  },
  {
   "cell_type": "code",
   "metadata": {
    "id": "Hx3EVu8LSyGd",
    "executionInfo": {
     "status": "ok",
     "timestamp": 1690806746368,
     "user_tz": -420,
     "elapsed": 366,
     "user": {
      "displayName": "Rian Febriansyah",
      "userId": "09249289355477225882"
     }
    },
    "outputId": "c77896df-9548-4176-9982-32a77ddabd37",
    "colab": {
     "base_uri": "https://localhost:8080/"
    },
    "ExecuteTime": {
     "end_time": "2025-06-29T10:13:13.926629Z",
     "start_time": "2025-06-29T10:13:13.911215Z"
    }
   },
   "source": [
    "from sklearn.model_selection import cross_val_score\n",
    "from sklearn.linear_model import LinearRegression\n",
    "\n",
    "# Buat objek model Regresi Linear\n",
    "model = LinearRegression()\n",
    "\n",
    "# Lakukan K-Fold Cross Validation dengan k=5\n",
    "scores = cross_val_score(model, X_train_scaled, y_train, cv=5, scoring='neg_mean_squared_error')\n",
    "\n",
    "# Menghitung rata-rata Mean Squared Error dari hasil Cross Validation\n",
    "mse_cv = -scores.mean()\n",
    "\n",
    "print(\"Average MSE from Cross Validation:\", mse_cv)\n"
   ],
   "outputs": [
    {
     "name": "stdout",
     "output_type": "stream",
     "text": [
      "Average MSE from Cross Validation: 868869330.0939802\n"
     ]
    }
   ],
   "execution_count": 2
  },
  {
   "cell_type": "markdown",
   "source": [
    "## Performance Tuning"
   ],
   "metadata": {
    "id": "rPHG6BcU7VBm"
   }
  },
  {
   "cell_type": "code",
   "source": [
    "from sklearn.model_selection import GridSearchCV\n",
    "from sklearn.linear_model import Lasso, Ridge\n",
    "\n",
    "# Buat objek model Regresi Linear dengan Lasso Regularization\n",
    "lasso_model = Lasso()\n",
    "\n",
    "# Tentukan daftar nilai alpha yang akan dicoba pada Grid Search\n",
    "param_grid = {'alpha': [0.01, 0.1, 1.0, 10.0]}\n",
    "\n",
    "# Lakukan Grid Search dengan K-Fold Cross Validation dengan k=5\n",
    "grid_search = GridSearchCV(lasso_model, param_grid, cv=5, scoring='neg_mean_squared_error')\n",
    "grid_search.fit(X_train_selected, y_train)\n",
    "\n",
    "# Parameter alpha terbaik\n",
    "best_alpha = grid_search.best_params_['alpha']\n",
    "\n",
    "print(\"Best alpha:\", best_alpha)\n"
   ],
   "metadata": {
    "id": "yRKNPsrF0u9k",
    "colab": {
     "base_uri": "https://localhost:8080/"
    },
    "executionInfo": {
     "status": "ok",
     "timestamp": 1690806748550,
     "user_tz": -420,
     "elapsed": 376,
     "user": {
      "displayName": "Rian Febriansyah",
      "userId": "09249289355477225882"
     }
    },
    "outputId": "3bd190e4-56e0-492d-a97b-ed0e5a003eb4",
    "ExecuteTime": {
     "end_time": "2025-06-29T10:13:23.310158Z",
     "start_time": "2025-06-29T10:13:23.260619Z"
    }
   },
   "outputs": [
    {
     "name": "stdout",
     "output_type": "stream",
     "text": [
      "Best alpha: 0.01\n"
     ]
    }
   ],
   "execution_count": 3
  }
 ]
}
