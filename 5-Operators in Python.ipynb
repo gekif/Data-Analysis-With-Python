{
 "nbformat": 4,
 "nbformat_minor": 0,
 "metadata": {
  "colab": {
   "provenance": []
  },
  "kernelspec": {
   "name": "python3",
   "display_name": "Python 3"
  },
  "language_info": {
   "name": "python"
  }
 },
 "cells": [
  {
   "cell_type": "markdown",
   "source": [
    "# Operator Aritmatika\n",
    "1. Penjumlahan (+): Menambahkan dua nilai.\n",
    "2. Pengurangan (-): Mengurangkan dua nilai.\n",
    "3. Perkalian (*): Mengalikan dua nilai.\n",
    "4. Pembagian (/): Membagi dua nilai.\n",
    "5. Modulo (%): Mendapatkan sisa pembagian dua nilai.\n",
    "6. Pangkat (**): Menghitung hasil pemangkatan dua nilai.\n"
   ],
   "metadata": {
    "id": "SRfekchBg2RG"
   }
  },
  {
   "cell_type": "code",
   "source": [
    "x = 10 + 5  # hasilnya 15\n",
    "y = 12 - 8  # hasilnya 4\n",
    "z = 12 * 7  # hasilnya 84\n",
    "a = 12 / 2  # hasilnya 6\n",
    "b = 21 % 5  # hasilnya 1\n",
    "c = 2 ** 3  # hasilnya 8\n",
    "\n",
    "print(x, y, z, a, b, c)"
   ],
   "metadata": {
    "colab": {
     "base_uri": "https://localhost:8080/"
    },
    "id": "cVEHo2LTg_kr",
    "executionInfo": {
     "status": "ok",
     "timestamp": 1688035062472,
     "user_tz": -420,
     "elapsed": 6,
     "user": {
      "displayName": "Xnvl S",
      "userId": "09625641944926601818"
     }
    },
    "outputId": "7521bd4d-947b-4bf6-9227-efee7a28d436",
    "ExecuteTime": {
     "end_time": "2025-05-31T12:18:50.669751Z",
     "start_time": "2025-05-31T12:18:50.662762Z"
    }
   },
   "outputs": [
    {
     "name": "stdout",
     "output_type": "stream",
     "text": [
      "15 4 84 6.0 1 8\n"
     ]
    }
   ],
   "execution_count": 3
  },
  {
   "metadata": {
    "ExecuteTime": {
     "end_time": "2025-05-31T12:18:51.834349Z",
     "start_time": "2025-05-31T12:18:51.827096Z"
    }
   },
   "cell_type": "code",
   "source": [
    "d = 12 // 2\n",
    "d # Hasilnya 6, pembagian bulat"
   ],
   "outputs": [
    {
     "data": {
      "text/plain": [
       "6"
      ]
     },
     "execution_count": 4,
     "metadata": {},
     "output_type": "execute_result"
    }
   ],
   "execution_count": 4
  },
  {
   "cell_type": "markdown",
   "source": [
    "# Operator Perbandingan\n",
    "1. Sama dengan (==): Memeriksa apakah dua nilai sama.\n",
    "2. Tidak sama dengan (!=): Memeriksa apakah dua nilai tidak sama.\n",
    "3. Lebih besar dari (>), Lebih kecil dari (<): Membandingkan dua nilai.\n",
    "4. Lebih besar atau sama dengan (>=), Lebih kecil atau sama dengan (<=): Membandingkan dua nilai.\n"
   ],
   "metadata": {
    "id": "E3-yAZFhhxj2"
   }
  },
  {
   "cell_type": "code",
   "source": [
    "a = 12\n",
    "b = 13\n",
    "\n",
    "print(a == b)\n",
    "print(a != b)\n",
    "print(a > b)\n",
    "print(a < b)\n",
    "print(a >= b)\n",
    "print(a <= b)"
   ],
   "metadata": {
    "colab": {
     "base_uri": "https://localhost:8080/"
    },
    "id": "R_w8aIHoh8CO",
    "executionInfo": {
     "status": "ok",
     "timestamp": 1688035141318,
     "user_tz": -420,
     "elapsed": 413,
     "user": {
      "displayName": "Xnvl S",
      "userId": "09625641944926601818"
     }
    },
    "outputId": "6fe5c953-d0e5-4dc4-d473-04b8b8d49e4b",
    "ExecuteTime": {
     "end_time": "2025-05-31T12:18:55.266004Z",
     "start_time": "2025-05-31T12:18:55.260440Z"
    }
   },
   "outputs": [
    {
     "name": "stdout",
     "output_type": "stream",
     "text": [
      "False\n",
      "True\n",
      "False\n",
      "True\n",
      "False\n",
      "True\n"
     ]
    }
   ],
   "execution_count": 5
  },
  {
   "cell_type": "markdown",
   "source": [
    "# Operator Logika\n",
    "1. Logika AND (and): Mengembalikan True jika kedua kondisi benar.\n",
    "2. Logika OR (or): Mengembalikan True jika salah satu kondisi benar.\n",
    "3. Logika NOT (not): Membalikkan nilai dari suatu kondisi.\n"
   ],
   "metadata": {
    "id": "CLCFFQDxiTI2"
   }
  },
  {
   "cell_type": "code",
   "source": [
    "a = 12\n",
    "b = 4\n",
    "c = 9\n",
    "\n",
    "print(a > b and b > c)\n",
    "print(a > b or b < c)\n",
    "print(not a == b)"
   ],
   "metadata": {
    "colab": {
     "base_uri": "https://localhost:8080/"
    },
    "id": "AigXn3fZidA7",
    "executionInfo": {
     "status": "ok",
     "timestamp": 1688035211461,
     "user_tz": -420,
     "elapsed": 410,
     "user": {
      "displayName": "Xnvl S",
      "userId": "09625641944926601818"
     }
    },
    "outputId": "1f4ce670-fb96-4019-aa0e-6802014ad9c1",
    "ExecuteTime": {
     "end_time": "2025-05-31T12:19:05.681845Z",
     "start_time": "2025-05-31T12:19:05.677158Z"
    }
   },
   "outputs": [
    {
     "name": "stdout",
     "output_type": "stream",
     "text": [
      "False\n",
      "True\n",
      "True\n"
     ]
    }
   ],
   "execution_count": 6
  },
  {
   "metadata": {
    "ExecuteTime": {
     "end_time": "2025-05-31T12:19:33.280017Z",
     "start_time": "2025-05-31T12:19:33.272657Z"
    }
   },
   "cell_type": "code",
   "source": "a > b",
   "outputs": [
    {
     "data": {
      "text/plain": [
       "True"
      ]
     },
     "execution_count": 7,
     "metadata": {},
     "output_type": "execute_result"
    }
   ],
   "execution_count": 7
  },
  {
   "metadata": {
    "ExecuteTime": {
     "end_time": "2025-05-31T12:20:07.457634Z",
     "start_time": "2025-05-31T12:20:07.451050Z"
    }
   },
   "cell_type": "code",
   "source": "b > c",
   "outputs": [
    {
     "data": {
      "text/plain": [
       "False"
      ]
     },
     "execution_count": 9,
     "metadata": {},
     "output_type": "execute_result"
    }
   ],
   "execution_count": 9
  },
  {
   "metadata": {},
   "cell_type": "markdown",
   "source": "Logika AND mengembalikan True hanya jika kedua kondisi benar."
  },
  {
   "metadata": {
    "ExecuteTime": {
     "end_time": "2025-05-31T12:21:32.364885Z",
     "start_time": "2025-05-31T12:21:32.357276Z"
    }
   },
   "cell_type": "code",
   "source": "True and True",
   "outputs": [
    {
     "data": {
      "text/plain": [
       "True"
      ]
     },
     "execution_count": 13,
     "metadata": {},
     "output_type": "execute_result"
    }
   ],
   "execution_count": 13
  },
  {
   "metadata": {},
   "cell_type": "code",
   "outputs": [
    {
     "data": {
      "text/plain": [
       "False"
      ]
     },
     "execution_count": 12,
     "metadata": {},
     "output_type": "execute_result"
    }
   ],
   "execution_count": 12,
   "source": "True and False"
  },
  {
   "metadata": {
    "ExecuteTime": {
     "end_time": "2025-05-31T12:21:50.769887Z",
     "start_time": "2025-05-31T12:21:50.764130Z"
    }
   },
   "cell_type": "code",
   "source": "False and True",
   "outputs": [
    {
     "data": {
      "text/plain": [
       "False"
      ]
     },
     "execution_count": 14,
     "metadata": {},
     "output_type": "execute_result"
    }
   ],
   "execution_count": 14
  },
  {
   "metadata": {
    "ExecuteTime": {
     "end_time": "2025-05-31T12:22:14.541085Z",
     "start_time": "2025-05-31T12:22:14.536506Z"
    }
   },
   "cell_type": "code",
   "source": "False and False",
   "outputs": [
    {
     "data": {
      "text/plain": [
       "False"
      ]
     },
     "execution_count": 15,
     "metadata": {},
     "output_type": "execute_result"
    }
   ],
   "execution_count": 15
  },
  {
   "metadata": {},
   "cell_type": "markdown",
   "source": "Logika OR mengembalikan True jika salah satu kondisi benar."
  },
  {
   "metadata": {
    "ExecuteTime": {
     "end_time": "2025-05-31T12:23:02.450644Z",
     "start_time": "2025-05-31T12:23:02.445057Z"
    }
   },
   "cell_type": "code",
   "source": "True or True",
   "outputs": [
    {
     "data": {
      "text/plain": [
       "True"
      ]
     },
     "execution_count": 16,
     "metadata": {},
     "output_type": "execute_result"
    }
   ],
   "execution_count": 16
  },
  {
   "metadata": {
    "ExecuteTime": {
     "end_time": "2025-05-31T12:23:14.169552Z",
     "start_time": "2025-05-31T12:23:14.162292Z"
    }
   },
   "cell_type": "code",
   "source": "True or False",
   "outputs": [
    {
     "data": {
      "text/plain": [
       "True"
      ]
     },
     "execution_count": 17,
     "metadata": {},
     "output_type": "execute_result"
    }
   ],
   "execution_count": 17
  },
  {
   "metadata": {
    "ExecuteTime": {
     "end_time": "2025-05-31T12:23:21.104903Z",
     "start_time": "2025-05-31T12:23:21.098843Z"
    }
   },
   "cell_type": "code",
   "source": "False or True",
   "outputs": [
    {
     "data": {
      "text/plain": [
       "True"
      ]
     },
     "execution_count": 18,
     "metadata": {},
     "output_type": "execute_result"
    }
   ],
   "execution_count": 18
  },
  {
   "metadata": {
    "ExecuteTime": {
     "end_time": "2025-05-31T12:23:28.724493Z",
     "start_time": "2025-05-31T12:23:28.717923Z"
    }
   },
   "cell_type": "code",
   "source": "False or False",
   "outputs": [
    {
     "data": {
      "text/plain": [
       "False"
      ]
     },
     "execution_count": 19,
     "metadata": {},
     "output_type": "execute_result"
    }
   ],
   "execution_count": 19
  },
  {
   "metadata": {},
   "cell_type": "markdown",
   "source": "Logika NOT membalikkan nilai dari suatu kondisi."
  },
  {
   "metadata": {
    "ExecuteTime": {
     "end_time": "2025-05-31T12:24:12.619063Z",
     "start_time": "2025-05-31T12:24:12.611404Z"
    }
   },
   "cell_type": "code",
   "source": "not True",
   "outputs": [
    {
     "data": {
      "text/plain": [
       "False"
      ]
     },
     "execution_count": 20,
     "metadata": {},
     "output_type": "execute_result"
    }
   ],
   "execution_count": 20
  },
  {
   "metadata": {
    "ExecuteTime": {
     "end_time": "2025-05-31T12:24:18.702692Z",
     "start_time": "2025-05-31T12:24:18.696319Z"
    }
   },
   "cell_type": "code",
   "source": "not False",
   "outputs": [
    {
     "data": {
      "text/plain": [
       "True"
      ]
     },
     "execution_count": 21,
     "metadata": {},
     "output_type": "execute_result"
    }
   ],
   "execution_count": 21
  },
  {
   "cell_type": "markdown",
   "source": [
    "# Operator Assignment\n",
    "1. Assignment (=): Meng-assign nilai ke variabel.\n",
    "2. Penugasan tambahan (+=), Penugasan pengurangan (-=), Penugasan perkalian (*=), Penugasan pembagian (/=): Meng-assign dan melakukan operasi aritmatika secara bersamaan.\n"
   ],
   "metadata": {
    "id": "FKjVV1NOiv95"
   }
  },
  {
   "cell_type": "code",
   "source": [
    "a = 12\n",
    "b = 9\n",
    "\n",
    "# menambahkan variabel a dengan 3\n",
    "a += 3\n",
    "\n",
    "# menguraingi variabel a dengan 3\n",
    "a -= 3\n",
    "\n",
    "# mengalikan variabel b dengan 3\n",
    "b *= 3\n",
    "\n",
    "# membagi variabel b dengan 3\n",
    "b /= 3\n",
    "\n",
    "print(a, b)"
   ],
   "metadata": {
    "colab": {
     "base_uri": "https://localhost:8080/"
    },
    "id": "D5pvi-ILi5Nx",
    "executionInfo": {
     "status": "ok",
     "timestamp": 1688035380049,
     "user_tz": -420,
     "elapsed": 341,
     "user": {
      "displayName": "Xnvl S",
      "userId": "09625641944926601818"
     }
    },
    "outputId": "bb23bc95-fae1-4383-a3d6-ba324806c86b",
    "ExecuteTime": {
     "end_time": "2025-05-31T12:26:57.709934Z",
     "start_time": "2025-05-31T12:26:57.702358Z"
    }
   },
   "outputs": [
    {
     "name": "stdout",
     "output_type": "stream",
     "text": [
      "12 9.0\n"
     ]
    }
   ],
   "execution_count": 23
  },
  {
   "metadata": {
    "ExecuteTime": {
     "end_time": "2025-05-31T12:27:19.917800Z",
     "start_time": "2025-05-31T12:27:19.913381Z"
    }
   },
   "cell_type": "code",
   "source": "a += 3",
   "outputs": [],
   "execution_count": 24
  },
  {
   "metadata": {
    "ExecuteTime": {
     "end_time": "2025-05-31T12:27:30.931648Z",
     "start_time": "2025-05-31T12:27:30.925599Z"
    }
   },
   "cell_type": "code",
   "source": "a",
   "outputs": [
    {
     "data": {
      "text/plain": [
       "15"
      ]
     },
     "execution_count": 25,
     "metadata": {},
     "output_type": "execute_result"
    }
   ],
   "execution_count": 25
  },
  {
   "metadata": {
    "ExecuteTime": {
     "end_time": "2025-05-31T12:27:48.405263Z",
     "start_time": "2025-05-31T12:27:48.401442Z"
    }
   },
   "cell_type": "code",
   "source": "b *= 3",
   "outputs": [],
   "execution_count": 26
  },
  {
   "metadata": {
    "ExecuteTime": {
     "end_time": "2025-05-31T12:27:51.519505Z",
     "start_time": "2025-05-31T12:27:51.514759Z"
    }
   },
   "cell_type": "code",
   "source": "b",
   "outputs": [
    {
     "data": {
      "text/plain": [
       "27.0"
      ]
     },
     "execution_count": 27,
     "metadata": {},
     "output_type": "execute_result"
    }
   ],
   "execution_count": 27
  }
 ]
}
