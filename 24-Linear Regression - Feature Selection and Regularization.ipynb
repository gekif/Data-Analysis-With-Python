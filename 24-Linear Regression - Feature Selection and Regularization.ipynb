{
 "nbformat": 4,
 "nbformat_minor": 0,
 "metadata": {
  "colab": {
   "provenance": [],
   "authorship_tag": "ABX9TyNY7TuvnRpfSENNJSf1XS46"
  },
  "kernelspec": {
   "name": "python3",
   "display_name": "Python 3"
  },
  "language_info": {
   "name": "python"
  }
 },
 "cells": [
  {
   "cell_type": "markdown",
   "source": [
    "# Linear Regression - Feature Selection and Regularization"
   ],
   "metadata": {
    "id": "P2kXoXqhBkea"
   }
  },
  {
   "cell_type": "markdown",
   "source": [
    "## Feature Selection"
   ],
   "metadata": {
    "id": "DVioFA5vG5yu"
   }
  },
  {
   "cell_type": "markdown",
   "source": [
    "## Kode Tahapan Sebelumnya"
   ],
   "metadata": {
    "id": "MS8n7xYeGNpC"
   }
  },
  {
   "cell_type": "code",
   "source": [
    "import pandas as pd\n",
    "import numpy as np\n",
    "\n",
    "from sklearn.model_selection import train_test_split\n",
    "from sklearn.preprocessing import StandardScaler\n",
    "\n",
    "# Generate data random untuk contoh dataset\n",
    "np.random.seed(42)\n",
    "land_area = np.random.randint(100, 500, size=200)\n",
    "house_price = 150000 + 300 * land_area + np.random.randint(-50000, 50000, size=200)\n",
    "\n",
    "data = pd.DataFrame({'Luas_Tanah': land_area, 'Harga_Rumah': house_price})\n",
    "\n",
    "# Pisahkan variabel dependen (Y) dan independen (X)\n",
    "X = data[['Luas_Tanah']]\n",
    "y = data['Harga_Rumah']\n",
    "\n",
    "# Pisahkan data menjadi data latih dan data uji\n",
    "X_train, X_test, y_train, y_test = train_test_split(X, y, test_size=0.2, random_state=42)\n",
    "\n",
    "# Normalisasi data menggunakan StandardScaler\n",
    "scaler = StandardScaler()\n",
    "X_train_scaled = scaler.fit_transform(X_train)\n",
    "X_test_scaled = scaler.transform(X_test)\n",
    "\n",
    "print(\"X Train\", X_train)\n",
    "\n",
    "print(\"Y Train\", y_train)"
   ],
   "metadata": {
    "colab": {
     "base_uri": "https://localhost:8080/"
    },
    "id": "vlA9Zv1JGRC7",
    "executionInfo": {
     "status": "ok",
     "timestamp": 1690692421230,
     "user_tz": -420,
     "elapsed": 448,
     "user": {
      "displayName": "Rian Febriansyah",
      "userId": "09249289355477225882"
     }
    },
    "outputId": "ac98cb57-9b0c-43d3-8ef7-96b3354d391a",
    "ExecuteTime": {
     "end_time": "2025-06-29T10:12:38.074887Z",
     "start_time": "2025-06-29T10:12:34.628418Z"
    }
   },
   "outputs": [
    {
     "name": "stdout",
     "output_type": "stream",
     "text": [
      "X Train      Luas_Tanah\n",
      "79          301\n",
      "197         458\n",
      "38          150\n",
      "24          376\n",
      "122         300\n",
      "..          ...\n",
      "106         108\n",
      "14          459\n",
      "92          466\n",
      "179         127\n",
      "102         400\n",
      "\n",
      "[160 rows x 1 columns]\n",
      "Y Train 79     212218\n",
      "197    273177\n",
      "38     197662\n",
      "24     239536\n",
      "122    240108\n",
      "        ...  \n",
      "106    145274\n",
      "14     277053\n",
      "92     269655\n",
      "179    204335\n",
      "102    226295\n",
      "Name: Harga_Rumah, Length: 160, dtype: int32\n"
     ]
    }
   ],
   "execution_count": 1
  },
  {
   "cell_type": "markdown",
   "source": [
    "## Feature Selection & Regularization"
   ],
   "metadata": {
    "id": "fHgGwjOhHE5X"
   }
  },
  {
   "cell_type": "code",
   "metadata": {
    "colab": {
     "base_uri": "https://localhost:8080/"
    },
    "id": "48WdFYtYKpyN",
    "executionInfo": {
     "status": "ok",
     "timestamp": 1690692460268,
     "user_tz": -420,
     "elapsed": 4,
     "user": {
      "displayName": "Rian Febriansyah",
      "userId": "09249289355477225882"
     }
    },
    "outputId": "aa31c99f-e1f2-4074-c393-fbdeda6dcbe9",
    "ExecuteTime": {
     "end_time": "2025-06-29T10:12:46.094957Z",
     "start_time": "2025-06-29T10:12:45.877033Z"
    }
   },
   "source": [
    "from sklearn.linear_model import Lasso, Ridge\n",
    "from sklearn.feature_selection import SelectKBest, f_regression\n",
    "from sklearn.metrics import mean_squared_error\n",
    "\n",
    "# Contoh Feature Selection dengan Univariate Feature Selection\n",
    "selector = SelectKBest(score_func=f_regression, k=\"all\")\n",
    "X_train_selected = selector.fit_transform(X_train_scaled, y_train)\n",
    "X_test_selected = selector.transform(X_test_scaled)\n",
    "\n",
    "# Contoh Regularization dengan Lasso Regression\n",
    "lasso_model = Lasso(alpha=0.01)\n",
    "lasso_model.fit(X_train_selected, y_train)\n",
    "lasso_mse = mean_squared_error(y_test, lasso_model.predict(X_test_selected))\n",
    "\n",
    "# Contoh Regularization dengan Ridge Regression\n",
    "ridge_model = Ridge(alpha=0.01)\n",
    "ridge_model.fit(X_train_selected, y_train)\n",
    "ridge_mse = mean_squared_error(y_test, ridge_model.predict(X_test_selected))\n",
    "\n",
    "print(\"Lasso Regression MSE:\", lasso_mse)\n",
    "print(\"Ridge Regression MSE:\", ridge_mse)\n"
   ],
   "outputs": [
    {
     "name": "stdout",
     "output_type": "stream",
     "text": [
      "Lasso Regression MSE: 833819407.7700809\n",
      "Ridge Regression MSE: 833813011.9268351\n"
     ]
    }
   ],
   "execution_count": 2
  }
 ]
}
