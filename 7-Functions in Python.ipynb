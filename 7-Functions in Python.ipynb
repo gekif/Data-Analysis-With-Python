{
 "nbformat": 4,
 "nbformat_minor": 0,
 "metadata": {
  "colab": {
   "provenance": []
  },
  "kernelspec": {
   "name": "python3",
   "display_name": "Python 3"
  },
  "language_info": {
   "name": "python"
  }
 },
 "cells": [
  {
   "cell_type": "markdown",
   "source": [
    "# Functions in Python\n"
   ],
   "metadata": {
    "id": "Sub2-Iq7xo4J"
   }
  },
  {
   "cell_type": "markdown",
   "source": [
    "## Defining Function"
   ],
   "metadata": {
    "id": "UGx_GVU5xwyV"
   }
  },
  {
   "cell_type": "code",
   "metadata": {
    "id": "hDfYneHvxmVB",
    "executionInfo": {
     "status": "ok",
     "timestamp": 1688055703709,
     "user_tz": -420,
     "elapsed": 414,
     "user": {
      "displayName": "Xnvl S",
      "userId": "09625641944926601818"
     }
    },
    "ExecuteTime": {
     "end_time": "2025-06-01T11:01:11.371190Z",
     "start_time": "2025-06-01T11:01:11.360818Z"
    }
   },
   "source": [
    "# 1. Mendefinisikan sebuah fungsi\n",
    "def print_a():\n",
    "  # blok kode yang akan dijalankan di dalam fungsi\n",
    "  print(\"a\")"
   ],
   "outputs": [],
   "execution_count": 3
  },
  {
   "cell_type": "code",
   "source": [
    "# 2. Parameters\n",
    "def penjumlahan(parameter_1, parameter_2):\n",
    "  # parameter dapat dipanggil dan dioperasikan di dalam fungsi\n",
    "  print(parameter_1 + parameter_2)"
   ],
   "metadata": {
    "id": "IU8bxRGn9Zyx",
    "executionInfo": {
     "status": "ok",
     "timestamp": 1688055746543,
     "user_tz": -420,
     "elapsed": 341,
     "user": {
      "displayName": "Xnvl S",
      "userId": "09625641944926601818"
     }
    },
    "ExecuteTime": {
     "end_time": "2025-06-01T11:01:13.159643Z",
     "start_time": "2025-06-01T11:01:13.154229Z"
    }
   },
   "outputs": [],
   "execution_count": 4
  },
  {
   "metadata": {},
   "cell_type": "markdown",
   "source": "Self Learning"
  },
  {
   "metadata": {
    "ExecuteTime": {
     "end_time": "2025-06-01T11:11:11.369424Z",
     "start_time": "2025-06-01T11:11:11.360818Z"
    }
   },
   "cell_type": "code",
   "source": [
    "def addition(a, b):\n",
    "  # fungsi untuk menjumlahkan dua angka\n",
    "  return a + b"
   ],
   "outputs": [],
   "execution_count": 13
  },
  {
   "cell_type": "markdown",
   "source": [
    "## Calling a Function"
   ],
   "metadata": {
    "id": "QHTcrlb7yQJL"
   }
  },
  {
   "cell_type": "code",
   "source": [
    "# 1. Memanggil sebuah fungsi\n",
    "print_a()"
   ],
   "metadata": {
    "id": "ujXlwaSSySUK",
    "colab": {
     "base_uri": "https://localhost:8080/"
    },
    "executionInfo": {
     "status": "ok",
     "timestamp": 1688055715525,
     "user_tz": -420,
     "elapsed": 324,
     "user": {
      "displayName": "Xnvl S",
      "userId": "09625641944926601818"
     }
    },
    "outputId": "012ffa0c-26fd-4ca0-a1e4-54550753f52a",
    "ExecuteTime": {
     "end_time": "2025-06-01T11:01:15.196985Z",
     "start_time": "2025-06-01T11:01:15.189505Z"
    }
   },
   "outputs": [
    {
     "name": "stdout",
     "output_type": "stream",
     "text": [
      "a\n"
     ]
    }
   ],
   "execution_count": 5
  },
  {
   "cell_type": "code",
   "source": [
    "# 2. Argumen\n",
    "penjumlahan(1, 4)"
   ],
   "metadata": {
    "id": "VcLCWCLeyVGk",
    "colab": {
     "base_uri": "https://localhost:8080/"
    },
    "executionInfo": {
     "status": "ok",
     "timestamp": 1688055791702,
     "user_tz": -420,
     "elapsed": 3,
     "user": {
      "displayName": "Xnvl S",
      "userId": "09625641944926601818"
     }
    },
    "outputId": "45a5d1a6-b7cb-49c2-f50f-3bb2347967b3",
    "ExecuteTime": {
     "end_time": "2025-06-01T11:01:17.258901Z",
     "start_time": "2025-06-01T11:01:17.251383Z"
    }
   },
   "outputs": [
    {
     "name": "stdout",
     "output_type": "stream",
     "text": [
      "5\n"
     ]
    }
   ],
   "execution_count": 6
  },
  {
   "metadata": {},
   "cell_type": "markdown",
   "source": "Self Learning"
  },
  {
   "metadata": {
    "ExecuteTime": {
     "end_time": "2025-06-01T11:11:13.244724Z",
     "start_time": "2025-06-01T11:11:13.237607Z"
    }
   },
   "cell_type": "code",
   "source": "print(addition(2, 3))",
   "outputs": [
    {
     "name": "stdout",
     "output_type": "stream",
     "text": [
      "5\n"
     ]
    }
   ],
   "execution_count": 14
  },
  {
   "cell_type": "markdown",
   "source": [
    "Return Statements\n"
   ],
   "metadata": {
    "id": "U7g8R5lEyhm4"
   }
  },
  {
   "cell_type": "code",
   "source": [
    "def penjumlahan_2(parameter_1, parameter_2):\n",
    "  # parameter dapat dipanggil dan dioperasikan di dalam fungsi\n",
    "  return parameter_1 + parameter_2"
   ],
   "metadata": {
    "id": "f1g708ECympO",
    "executionInfo": {
     "status": "ok",
     "timestamp": 1688055852294,
     "user_tz": -420,
     "elapsed": 3,
     "user": {
      "displayName": "Xnvl S",
      "userId": "09625641944926601818"
     }
    },
    "ExecuteTime": {
     "end_time": "2025-06-01T11:01:19.611440Z",
     "start_time": "2025-06-01T11:01:19.605246Z"
    }
   },
   "outputs": [],
   "execution_count": 7
  },
  {
   "cell_type": "code",
   "source": [
    "# Memanggil hasil return fungsi ke dalam sebuah variabel\n",
    "hasil = penjumlahan_2(1, 2)\n",
    "print(hasil)"
   ],
   "metadata": {
    "id": "1JsUHkBgytI_",
    "colab": {
     "base_uri": "https://localhost:8080/"
    },
    "executionInfo": {
     "status": "ok",
     "timestamp": 1688055897835,
     "user_tz": -420,
     "elapsed": 6,
     "user": {
      "displayName": "Xnvl S",
      "userId": "09625641944926601818"
     }
    },
    "outputId": "33733c18-153d-46d2-85b2-dad9a8a711a6",
    "ExecuteTime": {
     "end_time": "2025-06-01T11:01:23.721798Z",
     "start_time": "2025-06-01T11:01:23.713704Z"
    }
   },
   "outputs": [
    {
     "name": "stdout",
     "output_type": "stream",
     "text": [
      "3\n"
     ]
    }
   ],
   "execution_count": 8
  },
  {
   "cell_type": "code",
   "source": [
    "hasil = penjumlahan(1, 2)\n",
    "\n",
    "print(hasil)"
   ],
   "metadata": {
    "colab": {
     "base_uri": "https://localhost:8080/"
    },
    "id": "GI1iY9u_8tFR",
    "executionInfo": {
     "status": "ok",
     "timestamp": 1688055912406,
     "user_tz": -420,
     "elapsed": 323,
     "user": {
      "displayName": "Xnvl S",
      "userId": "09625641944926601818"
     }
    },
    "outputId": "86ebd477-e618-43ed-f734-23825e1a7096",
    "ExecuteTime": {
     "end_time": "2025-06-01T11:01:27.602160Z",
     "start_time": "2025-06-01T11:01:27.593855Z"
    }
   },
   "outputs": [
    {
     "name": "stdout",
     "output_type": "stream",
     "text": [
      "3\n",
      "None\n"
     ]
    }
   ],
   "execution_count": 9
  },
  {
   "cell_type": "markdown",
   "source": [
    "## args and kwargs"
   ],
   "metadata": {
    "id": "TvVsEm_Vy5TE"
   }
  },
  {
   "cell_type": "code",
   "source": [
    "# fungsi dengan *args\n",
    "def calculate_total(*args):\n",
    "  total = sum(args)\n",
    "  return total\n",
    "\n",
    "result = calculate_total(1,2,3,4,5,6,7,8,10,11,12,)\n",
    "print(\"Total: \", result)"
   ],
   "metadata": {
    "id": "xWUOur_5y6kh",
    "colab": {
     "base_uri": "https://localhost:8080/"
    },
    "executionInfo": {
     "status": "ok",
     "timestamp": 1688056001131,
     "user_tz": -420,
     "elapsed": 3,
     "user": {
      "displayName": "Xnvl S",
      "userId": "09625641944926601818"
     }
    },
    "outputId": "9359613a-a85c-4f27-c30d-f7e7a143c91c",
    "ExecuteTime": {
     "end_time": "2025-06-01T11:01:36.949538Z",
     "start_time": "2025-06-01T11:01:36.940641Z"
    }
   },
   "outputs": [
    {
     "name": "stdout",
     "output_type": "stream",
     "text": [
      "Total:  69\n"
     ]
    }
   ],
   "execution_count": 10
  },
  {
   "cell_type": "code",
   "source": [
    "# fungsi dengan *kwargs\n",
    "def print_info(**kwargs):\n",
    "  for key, value in kwargs.items():\n",
    "    print(key + \" : \", value)\n",
    "\n",
    "print_info(name=\"John\", age=24, profession=\"Programmer\", location=\"ID\")"
   ],
   "metadata": {
    "id": "uQ-pVWyfzIKd",
    "colab": {
     "base_uri": "https://localhost:8080/"
    },
    "executionInfo": {
     "status": "ok",
     "timestamp": 1688056062382,
     "user_tz": -420,
     "elapsed": 4,
     "user": {
      "displayName": "Xnvl S",
      "userId": "09625641944926601818"
     }
    },
    "outputId": "1b86ff0f-cf2f-4998-9dd7-3af3b1dad4f0",
    "ExecuteTime": {
     "end_time": "2025-06-01T11:01:45.025437Z",
     "start_time": "2025-06-01T11:01:45.016483Z"
    }
   },
   "outputs": [
    {
     "name": "stdout",
     "output_type": "stream",
     "text": [
      "name :  John\n",
      "age :  24\n",
      "profession :  Programmer\n",
      "location :  ID\n"
     ]
    }
   ],
   "execution_count": 11
  },
  {
   "cell_type": "markdown",
   "source": [
    "## Contoh Penerapan Fungsi"
   ],
   "metadata": {
    "id": "tF-iAGkIzTIJ"
   }
  },
  {
   "cell_type": "code",
   "source": [
    "# mendefinisikan sebuah fungsi\n",
    "def greet():\n",
    "  print(\"Halo...\")\n",
    "\n",
    "# memanggil fungsi\n",
    "greet()\n",
    "\n",
    "# fungsi dengan parameter\n",
    "def say_hello(nama):\n",
    "  print(\"Hello, \" + nama + \"!\")\n",
    "\n",
    "say_hello(\"John\")\n",
    "\n",
    "# fungsi dengan return statement\n",
    "def add_number(a, b):\n",
    "  return a + b\n",
    "\n",
    "result = add_number(2, 8)\n",
    "print(\"Hasil: \", result)\n",
    "\n",
    "# fungsi dengan *args\n",
    "def calculate_total(*args):\n",
    "  total = sum(args)\n",
    "  return total\n",
    "\n",
    "result = calculate_total(1,2,3,4,5,6,7,8)\n",
    "print(\"Total: \", result)\n",
    "\n",
    "# fungsi dengan *kwargs\n",
    "def print_info(**kwargs):\n",
    "  for key, value in kwargs.items():\n",
    "    print(key + \" : \", value)\n",
    "\n",
    "print_info(name=\"John\", age=24, profession=\"Programmer\")"
   ],
   "metadata": {
    "colab": {
     "base_uri": "https://localhost:8080/"
    },
    "id": "cBMV91AAzVa7",
    "executionInfo": {
     "status": "ok",
     "timestamp": 1688055353051,
     "user_tz": -420,
     "elapsed": 3,
     "user": {
      "displayName": "Xnvl S",
      "userId": "09625641944926601818"
     }
    },
    "outputId": "63026890-ba80-42fd-821f-6557f45c671b",
    "ExecuteTime": {
     "end_time": "2025-06-01T11:01:57.448425Z",
     "start_time": "2025-06-01T11:01:57.435092Z"
    }
   },
   "outputs": [
    {
     "name": "stdout",
     "output_type": "stream",
     "text": [
      "Halo...\n",
      "Hello, John!\n",
      "Hasil:  10\n",
      "Total:  36\n",
      "name :  John\n",
      "age :  24\n",
      "profession :  Programmer\n"
     ]
    }
   ],
   "execution_count": 12
  }
 ]
}
