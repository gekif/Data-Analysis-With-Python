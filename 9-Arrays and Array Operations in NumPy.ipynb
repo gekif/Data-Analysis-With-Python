{
 "nbformat": 4,
 "nbformat_minor": 0,
 "metadata": {
  "colab": {
   "provenance": []
  },
  "kernelspec": {
   "name": "python3",
   "display_name": "Python 3"
  },
  "language_info": {
   "name": "python"
  }
 },
 "cells": [
  {
   "cell_type": "markdown",
   "source": [
    "# Arrays and Array Operations in NumPy"
   ],
   "metadata": {
    "id": "ymgaP9K8SrNE"
   }
  },
  {
   "cell_type": "markdown",
   "source": [
    "## Array Indexing and Slicing in NumPy"
   ],
   "metadata": {
    "id": "yiZwlc_bdlRd"
   }
  },
  {
   "cell_type": "markdown",
   "source": [
    "Indexing: dilakukan untuk mengakses elemen di dalam array berdasarkan index dari elemen yang dituju\n",
    "\n",
    "Slicing: dilakukan untuk megakses atau memilih subset array di dalam suatu array"
   ],
   "metadata": {
    "id": "Gn2BgYApp4Cl"
   }
  },
  {
   "cell_type": "markdown",
   "source": [
    "## Indexing and slicing one-dimensional arrays"
   ],
   "metadata": {
    "id": "CsS2VglOeYU9"
   }
  },
  {
   "cell_type": "code",
   "metadata": {
    "colab": {
     "base_uri": "https://localhost:8080/"
    },
    "id": "ILI9JDNCdLbB",
    "executionInfo": {
     "status": "ok",
     "timestamp": 1693135737904,
     "user_tz": -420,
     "elapsed": 6,
     "user": {
      "displayName": "Xnvl S",
      "userId": "09625641944926601818"
     }
    },
    "outputId": "c781c67f-52cf-492e-94e9-ad7d28abd225",
    "ExecuteTime": {
     "end_time": "2025-06-01T11:52:38.911448Z",
     "start_time": "2025-06-01T11:52:38.777116Z"
    }
   },
   "source": [
    "import numpy as np\n",
    "\n",
    "# membuat array 1D dengan numpy\n",
    "numbers = np.array([1, 2, 3, 4, 5])\n",
    "\n",
    "# membuat variable baru yang berisi array dengan index 1\n",
    "second_element = numbers[1]\n",
    "\n",
    "# contoh slicing\n",
    "# sintaks umum: array[start:stop:step]\n",
    "slicing = numbers[1:4:2]\n",
    "\n",
    "print(second_element)\n",
    "print(slicing)"
   ],
   "outputs": [
    {
     "name": "stdout",
     "output_type": "stream",
     "text": [
      "2\n",
      "[2 4]\n"
     ]
    }
   ],
   "execution_count": 1
  },
  {
   "cell_type": "markdown",
   "source": [
    "## Indexing and slicing multi-dimensional arrays"
   ],
   "metadata": {
    "id": "BDCZ8WyPei1M"
   }
  },
  {
   "cell_type": "code",
   "source": [
    "# Membuat array 2D dengan numpy\n",
    "matrix = np.array([[1, 2, 3], [4, 5, 6], [7, 8, 9]])\n",
    "\n",
    "# mengakses elemen spesifik di dalam array\n",
    "element_1_2 = matrix[1, 2]\n",
    "first_row = matrix[0, :]\n",
    "last_column = matrix[:, 2]\n",
    "\n",
    "print(element_1_2)\n",
    "print(first_row)\n",
    "print(last_column)"
   ],
   "metadata": {
    "colab": {
     "base_uri": "https://localhost:8080/"
    },
    "id": "rGTA_g8keEDF",
    "executionInfo": {
     "status": "ok",
     "timestamp": 1693135779254,
     "user_tz": -420,
     "elapsed": 362,
     "user": {
      "displayName": "Xnvl S",
      "userId": "09625641944926601818"
     }
    },
    "outputId": "9ac98222-387b-48b5-a749-6b8ae5db2d5d",
    "ExecuteTime": {
     "end_time": "2025-06-01T11:53:42.210905Z",
     "start_time": "2025-06-01T11:53:42.206265Z"
    }
   },
   "outputs": [
    {
     "name": "stdout",
     "output_type": "stream",
     "text": [
      "6\n",
      "[1 2 3]\n",
      "[3 6 9]\n"
     ]
    }
   ],
   "execution_count": 2
  },
  {
   "cell_type": "markdown",
   "source": [
    "## Boolean indexing and fancy indexing"
   ],
   "metadata": {
    "id": "aYArzPL5el-L"
   }
  },
  {
   "cell_type": "code",
   "source": [
    "numbers = np.array([1, 2, 3, 4, 5])\n",
    "\n",
    "# Boolean indexing\n",
    "is_even = numbers % 2 == 0\n",
    "even_numbers = numbers[is_even]\n",
    "\n",
    "print(even_numbers)"
   ],
   "metadata": {
    "colab": {
     "base_uri": "https://localhost:8080/"
    },
    "id": "slA3tZqleHHc",
    "executionInfo": {
     "status": "ok",
     "timestamp": 1693135836474,
     "user_tz": -420,
     "elapsed": 410,
     "user": {
      "displayName": "Xnvl S",
      "userId": "09625641944926601818"
     }
    },
    "outputId": "963d43c5-0763-4a16-8a6c-24f39c4ce9e6"
   },
   "execution_count": 4,
   "outputs": [
    {
     "output_type": "stream",
     "name": "stdout",
     "text": [
      "[2 4]\n"
     ]
    }
   ]
  },
  {
   "cell_type": "code",
   "source": [
    "# Fancy indexing\n",
    "indices = [0, 2, 4]\n",
    "selected_numbers = numbers[indices]\n",
    "\n",
    "print(selected_numbers)"
   ],
   "metadata": {
    "colab": {
     "base_uri": "https://localhost:8080/"
    },
    "id": "7KEidYSQl9vL",
    "executionInfo": {
     "status": "ok",
     "timestamp": 1693135869958,
     "user_tz": -420,
     "elapsed": 389,
     "user": {
      "displayName": "Xnvl S",
      "userId": "09625641944926601818"
     }
    },
    "outputId": "65895389-6005-4a00-a069-f91876f6c035"
   },
   "execution_count": 5,
   "outputs": [
    {
     "output_type": "stream",
     "name": "stdout",
     "text": [
      "[1 3 5]\n"
     ]
    }
   ]
  },
  {
   "cell_type": "markdown",
   "source": [
    "## Mathematical Operations with NumPy Arrays"
   ],
   "metadata": {
    "id": "S47rJu4oneCe"
   }
  },
  {
   "cell_type": "markdown",
   "source": [
    "## Element-wise operations"
   ],
   "metadata": {
    "id": "8EJ-jkODni6D"
   }
  },
  {
   "cell_type": "code",
   "source": [
    "import numpy as np\n",
    "\n",
    "# membuat dua buah numpy array\n",
    "arr1 = np.array([1, 2, 3, 4])\n",
    "arr2 = np.array([5, 6, 7, 8])\n",
    "\n",
    "# menjumlahkan langsung kedua array tersebut\n",
    "result = arr1 + arr2\n",
    "print(result)"
   ],
   "metadata": {
    "colab": {
     "base_uri": "https://localhost:8080/"
    },
    "id": "lRGiabtunzlb",
    "executionInfo": {
     "status": "ok",
     "timestamp": 1693135885827,
     "user_tz": -420,
     "elapsed": 416,
     "user": {
      "displayName": "Xnvl S",
      "userId": "09625641944926601818"
     }
    },
    "outputId": "8fe6e260-e672-4121-bfc0-0b3330b07b2f"
   },
   "execution_count": 6,
   "outputs": [
    {
     "output_type": "stream",
     "name": "stdout",
     "text": [
      "[ 6  8 10 12]\n"
     ]
    }
   ]
  },
  {
   "cell_type": "markdown",
   "source": [
    "## Mathematical functions"
   ],
   "metadata": {
    "id": "Utjww0WlnlOz"
   }
  },
  {
   "cell_type": "code",
   "source": [
    "numbers = np.array([2, 4, 6, 8, 10])\n",
    "\n",
    "sum_result = np.sum(numbers)\n",
    "mean_result = np.mean(numbers)\n",
    "max_result = np.max(numbers)\n",
    "\n",
    "print(\"Sum:\", sum_result)\n",
    "print(\"Mean:\", mean_result)\n",
    "print(\"Maximum:\", max_result)"
   ],
   "metadata": {
    "colab": {
     "base_uri": "https://localhost:8080/"
    },
    "id": "J1TTtPman65W",
    "executionInfo": {
     "status": "ok",
     "timestamp": 1693135930374,
     "user_tz": -420,
     "elapsed": 408,
     "user": {
      "displayName": "Xnvl S",
      "userId": "09625641944926601818"
     }
    },
    "outputId": "cd3ab3c4-6c17-42cb-b99f-868882872020"
   },
   "execution_count": 7,
   "outputs": [
    {
     "output_type": "stream",
     "name": "stdout",
     "text": [
      "Sum: 30\n",
      "Mean: 6.0\n",
      "Maximum: 10\n"
     ]
    }
   ]
  },
  {
   "cell_type": "markdown",
   "source": [
    "## Broadcasting in NumPy"
   ],
   "metadata": {
    "id": "Ht7d_BAenpFw"
   }
  },
  {
   "cell_type": "markdown",
   "source": [
    "Memiliki tiga aturan dalam broadcasting di dalam NumPy\n",
    "1. Jika array memiliki jumlah dimensi yang berbeda, array dengan jumlah dimensi yang lebih sedikit akan ditambahkan padding di sebelah kiri hingga dimensinya cocok.\n",
    "2. Jika array memiliki ukuran yang berbeda pada dimensi tertentu, array dengan ukuran 1 pada dimensi tersebut akan diperluas agar bisa cocok dengan ukuran array lainnya."
   ],
   "metadata": {
    "id": "wrAr-1QVoR7C"
   }
  },
  {
   "cell_type": "code",
   "execution_count": 8,
   "metadata": {
    "colab": {
     "base_uri": "https://localhost:8080/"
    },
    "id": "ZoGMGwgEmxWN",
    "executionInfo": {
     "status": "ok",
     "timestamp": 1693135979015,
     "user_tz": -420,
     "elapsed": 337,
     "user": {
      "displayName": "Xnvl S",
      "userId": "09625641944926601818"
     }
    },
    "outputId": "1f4afa2b-2c5c-4f30-9c8a-d3a44ace47f4"
   },
   "outputs": [
    {
     "output_type": "stream",
     "name": "stdout",
     "text": [
      "[[2]\n",
      " [4]\n",
      " [6]]\n"
     ]
    }
   ],
   "source": [
    "# melakukan operasi pada numpy array yang memiliki dimensi/shape berbeda\n",
    "arr = np.array([[1], [2], [3]])\n",
    "scalar = 2\n",
    "\n",
    "result = arr * scalar\n",
    "print(result)"
   ]
  },
  {
   "cell_type": "code",
   "source": [
    "arr1 = np.array([[1], [2], [3]])\n",
    "arr2 = np.array([10, 20, 30, 40])\n",
    "\n",
    "result = arr1 * arr2\n",
    "print(result)"
   ],
   "metadata": {
    "id": "HJZhF-aFo1mG",
    "executionInfo": {
     "status": "ok",
     "timestamp": 1693136005541,
     "user_tz": -420,
     "elapsed": 417,
     "user": {
      "displayName": "Xnvl S",
      "userId": "09625641944926601818"
     }
    },
    "outputId": "d40a27ec-5ef5-4c9f-8eb0-b2a64fe90239",
    "colab": {
     "base_uri": "https://localhost:8080/"
    }
   },
   "execution_count": 9,
   "outputs": [
    {
     "output_type": "stream",
     "name": "stdout",
     "text": [
      "[[ 10  20  30  40]\n",
      " [ 20  40  60  80]\n",
      " [ 30  60  90 120]]\n"
     ]
    }
   ]
  }
 ]
}
