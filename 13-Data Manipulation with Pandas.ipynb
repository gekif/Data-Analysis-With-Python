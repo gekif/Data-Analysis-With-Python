{
 "nbformat": 4,
 "nbformat_minor": 0,
 "metadata": {
  "colab": {
   "provenance": []
  },
  "kernelspec": {
   "name": "python3",
   "display_name": "Python 3"
  },
  "language_info": {
   "name": "python"
  }
 },
 "cells": [
  {
   "cell_type": "markdown",
   "source": [
    "# Data Manipulation with Pandas"
   ],
   "metadata": {
    "id": "zqhcDyIiDaSM"
   }
  },
  {
   "cell_type": "markdown",
   "source": [
    "## Filtering and selecting data"
   ],
   "metadata": {
    "id": "U-fHS6WVDcpG"
   }
  },
  {
   "cell_type": "code",
   "metadata": {
    "colab": {
     "base_uri": "https://localhost:8080/"
    },
    "id": "YnBP5_wzDFhn",
    "executionInfo": {
     "status": "ok",
     "timestamp": 1688996861279,
     "user_tz": -420,
     "elapsed": 506,
     "user": {
      "displayName": "Rian Febriansyah",
      "userId": "09249289355477225882"
     }
    },
    "outputId": "84162ead-8d4f-4de4-cb77-3d40ca179a90",
    "ExecuteTime": {
     "end_time": "2025-06-28T04:18:15.548993Z",
     "start_time": "2025-06-28T04:18:14.537591Z"
    }
   },
   "source": [
    "import pandas as pd\n",
    "\n",
    "# Membuat DataFrame\n",
    "data = {'Nama': ['Andi', 'Budi', 'Cindy', 'Dewi'],\n",
    "        'Nilai': [85, 90, 92, 88],\n",
    "        'Kelas': [10, 11, 10, 11]}\n",
    "\n",
    "df = pd.DataFrame(data)\n",
    "\n",
    "# Memfilter data berdasarkan kondisi\n",
    "filtered_data = df[df['Nilai'] > 90]\n",
    "print(filtered_data)\n",
    "\n",
    "# Memilih kolom tertentu\n",
    "selected_columns = df[['Nama', 'Kelas']]\n",
    "print(selected_columns)\n"
   ],
   "outputs": [
    {
     "name": "stdout",
     "output_type": "stream",
     "text": [
      "    Nama  Nilai  Kelas\n",
      "2  Cindy     92     10\n",
      "    Nama  Kelas\n",
      "0   Andi     10\n",
      "1   Budi     11\n",
      "2  Cindy     10\n",
      "3   Dewi     11\n"
     ]
    }
   ],
   "execution_count": 1
  },
  {
   "cell_type": "markdown",
   "source": [
    "## Sorting and ranking data"
   ],
   "metadata": {
    "id": "jiQNVrFqDfi8"
   }
  },
  {
   "cell_type": "code",
   "source": [
    "# Membuat DataFrame\n",
    "data = {'Nama': ['Andi', 'Budi', 'Cindy', 'Dewi'],\n",
    "        'Nilai': [85, 90, 92, 88]}\n",
    "\n",
    "df = pd.DataFrame(data)\n",
    "\n",
    "# Mengurutkan DataFrame berdasarkan kolom 'Nilai' secara menaik\n",
    "sorted_data = df.sort_values('Nilai')\n",
    "print(sorted_data)\n",
    "\n",
    "# Memberikan peringkat pada DataFrame berdasarkan kolom 'Nilai'\n",
    "ranked_data = df['Nilai'].rank(ascending=False)\n",
    "print(ranked_data)\n"
   ],
   "metadata": {
    "colab": {
     "base_uri": "https://localhost:8080/"
    },
    "id": "u6VBGUSnDrz5",
    "executionInfo": {
     "status": "ok",
     "timestamp": 1688996867144,
     "user_tz": -420,
     "elapsed": 517,
     "user": {
      "displayName": "Rian Febriansyah",
      "userId": "09249289355477225882"
     }
    },
    "outputId": "44e475d8-4b77-47ba-d6de-4491255a8a8b",
    "ExecuteTime": {
     "end_time": "2025-06-28T04:18:37.777025Z",
     "start_time": "2025-06-28T04:18:37.762288Z"
    }
   },
   "outputs": [
    {
     "name": "stdout",
     "output_type": "stream",
     "text": [
      "    Nama  Nilai\n",
      "0   Andi     85\n",
      "3   Dewi     88\n",
      "1   Budi     90\n",
      "2  Cindy     92\n",
      "0    4.0\n",
      "1    2.0\n",
      "2    1.0\n",
      "3    3.0\n",
      "Name: Nilai, dtype: float64\n"
     ]
    }
   ],
   "execution_count": 2
  },
  {
   "cell_type": "markdown",
   "source": [
    "## Handling missing data in DataFrames"
   ],
   "metadata": {
    "id": "94_m-70iDixC"
   }
  },
  {
   "cell_type": "code",
   "source": [
    "import pandas as pd\n",
    "\n",
    "# Membuat DataFrame dengan data yang hilang\n",
    "data = {'Nama': ['Andi', 'Budi', 'Cindy', 'Dewi'],\n",
    "        'Nilai': [85, None, 92, 88]}\n",
    "\n",
    "df = pd.DataFrame(data)\n",
    "\n",
    "# Mengisi nilai yang hilang dengan nilai rata-rata\n",
    "mean_value = df['Nilai'].mean()\n",
    "df_filled = df.fillna(mean_value)\n",
    "print(df_filled)\n",
    "\n",
    "# Menghapus baris dengan nilai yang hilang\n",
    "df_dropped = df.dropna()\n",
    "print(df_dropped)\n"
   ],
   "metadata": {
    "colab": {
     "base_uri": "https://localhost:8080/"
    },
    "id": "d6cuLDrIDvoa",
    "executionInfo": {
     "status": "ok",
     "timestamp": 1688996879486,
     "user_tz": -420,
     "elapsed": 377,
     "user": {
      "displayName": "Rian Febriansyah",
      "userId": "09249289355477225882"
     }
    },
    "outputId": "f886bbe6-2f61-49be-8e70-82d9a5e1b9fa",
    "ExecuteTime": {
     "end_time": "2025-06-28T04:19:55.210816Z",
     "start_time": "2025-06-28T04:19:55.194746Z"
    }
   },
   "outputs": [
    {
     "name": "stdout",
     "output_type": "stream",
     "text": [
      "    Nama      Nilai\n",
      "0   Andi  85.000000\n",
      "1   Budi  88.333333\n",
      "2  Cindy  92.000000\n",
      "3   Dewi  88.000000\n",
      "    Nama  Nilai\n",
      "0   Andi   85.0\n",
      "2  Cindy   92.0\n",
      "3   Dewi   88.0\n"
     ]
    }
   ],
   "execution_count": 3
  },
  {
   "cell_type": "markdown",
   "source": [
    "## Indexing Methods"
   ],
   "metadata": {
    "id": "r4coWIF-7wql"
   }
  },
  {
   "cell_type": "code",
   "metadata": {
    "colab": {
     "base_uri": "https://localhost:8080/"
    },
    "id": "GllSwFkI0_Y0",
    "executionInfo": {
     "status": "ok",
     "timestamp": 1688994840161,
     "user_tz": -420,
     "elapsed": 12,
     "user": {
      "displayName": "Rian Febriansyah",
      "userId": "09249289355477225882"
     }
    },
    "outputId": "dce9bec0-f960-4e74-e7ad-f7f11af626d8",
    "ExecuteTime": {
     "end_time": "2025-06-28T04:20:45.862824Z",
     "start_time": "2025-06-28T04:20:45.850010Z"
    }
   },
   "source": [
    "import pandas as pd\n",
    "\n",
    "# Membuat DataFrame\n",
    "data = {'Nama': ['Andi', 'Budi', 'Cindy', 'Dewi'],\n",
    "        'Nilai': [85, 90, 92, 88]}\n",
    "\n",
    "df = pd.DataFrame(data)\n",
    "\n",
    "# Indexing berbasis label\n",
    "print(df.loc[1])  # Output: Nama: Budi, Nilai: 90\n",
    "\n",
    "# Indexing berbasis indeks numerik\n",
    "print(df.iloc[2] )  # Output: Nama: Cindy, Nilai: 92\n"
   ],
   "outputs": [
    {
     "name": "stdout",
     "output_type": "stream",
     "text": [
      "Nama     Budi\n",
      "Nilai      90\n",
      "Name: 1, dtype: object\n",
      "Nama     Cindy\n",
      "Nilai       92\n",
      "Name: 2, dtype: object\n"
     ]
    }
   ],
   "execution_count": 4
  },
  {
   "cell_type": "markdown",
   "source": [
    "## Conditional Indexing"
   ],
   "metadata": {
    "id": "ioEiMzeR7rsf"
   }
  },
  {
   "cell_type": "code",
   "source": [
    "# Membuat DataFrame\n",
    "data = {'Nama': ['Andi', 'Budi', 'Cindy', 'Dewi'],\n",
    "        'Nilai': [85, 90, 92, 88]}\n",
    "\n",
    "df = pd.DataFrame(data)\n",
    "\n",
    "# Conditional indexing\n",
    "filtered_data = df[df['Nilai'] > 90]\n",
    "print(filtered_data)"
   ],
   "metadata": {
    "colab": {
     "base_uri": "https://localhost:8080/"
    },
    "id": "vZQ280pj71rL",
    "executionInfo": {
     "status": "ok",
     "timestamp": 1688994847356,
     "user_tz": -420,
     "elapsed": 391,
     "user": {
      "displayName": "Rian Febriansyah",
      "userId": "09249289355477225882"
     }
    },
    "outputId": "7d12e340-d7b9-41cf-a45d-e63e8f755fed",
    "ExecuteTime": {
     "end_time": "2025-06-28T04:21:39.582151Z",
     "start_time": "2025-06-28T04:21:39.570295Z"
    }
   },
   "outputs": [
    {
     "name": "stdout",
     "output_type": "stream",
     "text": [
      "    Nama  Nilai\n",
      "2  Cindy     92\n"
     ]
    }
   ],
   "execution_count": 5
  },
  {
   "cell_type": "markdown",
   "source": [
    "## Hierarchical Indexing (MultiIndex)"
   ],
   "metadata": {
    "id": "a9Huzl2S7118"
   }
  },
  {
   "cell_type": "code",
   "source": [
    "# Membuat DataFrame dengan MultiIndex\n",
    "data = {'Nilai': [85, 90, 92, 88],\n",
    "        'Kelas': [10, 11, 10, 11],\n",
    "        'Subkelas': ['A', 'B', 'A', 'B']}\n",
    "\n",
    "df = pd.DataFrame(data)\n",
    "df.set_index(['Kelas', 'Subkelas'], inplace=True)\n",
    "print(df)\n"
   ],
   "metadata": {
    "colab": {
     "base_uri": "https://localhost:8080/"
    },
    "id": "GU1-muOH8DvO",
    "executionInfo": {
     "status": "ok",
     "timestamp": 1688994862019,
     "user_tz": -420,
     "elapsed": 387,
     "user": {
      "displayName": "Rian Febriansyah",
      "userId": "09249289355477225882"
     }
    },
    "outputId": "3eb0aae9-3b4a-4f51-da1a-32ada23868fd",
    "ExecuteTime": {
     "end_time": "2025-06-28T04:22:08.999793Z",
     "start_time": "2025-06-28T04:22:08.986061Z"
    }
   },
   "outputs": [
    {
     "name": "stdout",
     "output_type": "stream",
     "text": [
      "                Nilai\n",
      "Kelas Subkelas       \n",
      "10    A            85\n",
      "11    B            90\n",
      "10    A            92\n",
      "11    B            88\n"
     ]
    }
   ],
   "execution_count": 6
  }
 ]
}
