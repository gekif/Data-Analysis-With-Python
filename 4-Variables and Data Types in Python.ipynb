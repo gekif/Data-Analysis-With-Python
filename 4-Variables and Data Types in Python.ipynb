{
 "cells": [
  {
   "cell_type": "markdown",
   "metadata": {
    "editable": true,
    "id": "wqgdHEPTRUn4",
    "slideshow": {
     "slide_type": ""
    },
    "tags": []
   },
   "source": [
    "# Variable\n",
    "Variabel adalah lokasi penyimpanan yang diberi nama untuk menyimpan nilai dalam program."
   ]
  },
  {
   "cell_type": "code",
   "execution_count": 1,
   "metadata": {
    "ExecuteTime": {
     "end_time": "2025-05-31T00:09:33.479194Z",
     "start_time": "2025-05-31T00:09:33.469476Z"
    },
    "executionInfo": {
     "elapsed": 6,
     "status": "ok",
     "timestamp": 1706588543353,
     "user": {
      "displayName": "Kursus Digital",
      "userId": "06750594469910948985"
     },
     "user_tz": -420
    },
    "id": "rhufd7ovRNcn"
   },
   "outputs": [],
   "source": [
    "# variabel dengan tipe data integer\n",
    "umur = 25\n",
    "# variabel dengan tipe data string\n",
    "nama = \"John Doe\"\n",
    "# variabel dengan tipe data float\n",
    "tinggi = 175.2\n",
    "# variabel dengan tipe data boolean\n",
    "is_member = True"
   ]
  },
  {
   "cell_type": "code",
   "execution_count": 9,
   "metadata": {
    "ExecuteTime": {
     "end_time": "2025-05-31T00:11:20.040923Z",
     "start_time": "2025-05-31T00:11:20.033904Z"
    }
   },
   "outputs": [
    {
     "name": "stdout",
     "output_type": "stream",
     "text": [
      "25\n",
      "John Doe\n",
      "175.2\n",
      "True\n"
     ]
    }
   ],
   "source": [
    "print(umur)\n",
    "# umur\n",
    "\n",
    "print(nama)\n",
    "# nama\n",
    "\n",
    "print(tinggi)\n",
    "# tinggi\n",
    "\n",
    "print(is_member)\n",
    "# is_member"
   ]
  },
  {
   "cell_type": "markdown",
   "metadata": {
    "id": "K2BojaluSb0P"
   },
   "source": [
    "# Assignment Variable\n",
    "Menggunakan tanda sama dengan (=) untuk melakukan assignment suatu nilai ke dalam variabel."
   ]
  },
  {
   "cell_type": "code",
   "execution_count": 3,
   "metadata": {
    "ExecuteTime": {
     "end_time": "2025-05-24T04:01:17.605863Z",
     "start_time": "2025-05-24T04:01:17.599524Z"
    },
    "id": "PBbPlOD1SzbJ"
   },
   "outputs": [],
   "source": [
    "x = 10\n",
    "y = \"Halo\"\n",
    "z = 3.14"
   ]
  },
  {
   "cell_type": "markdown",
   "metadata": {
    "id": "IeLcDj7JS50_"
   },
   "source": [
    "# Collection"
   ]
  },
  {
   "cell_type": "markdown",
   "metadata": {
    "id": "3JaFDpUpZnb9"
   },
   "source": [
    "## List\n"
   ]
  },
  {
   "cell_type": "code",
   "execution_count": 10,
   "metadata": {
    "ExecuteTime": {
     "end_time": "2025-05-31T00:11:51.073019Z",
     "start_time": "2025-05-31T00:11:51.065657Z"
    },
    "colab": {
     "base_uri": "https://localhost:8080/"
    },
    "executionInfo": {
     "elapsed": 334,
     "status": "ok",
     "timestamp": 1688032085414,
     "user": {
      "displayName": "Xnvl S",
      "userId": "09625641944926601818"
     },
     "user_tz": -420
    },
    "id": "SIk7bg9GZm1R",
    "outputId": "5e0c1b21-60d2-4146-a7ed-20383ea5e6fe"
   },
   "outputs": [
    {
     "name": "stdout",
     "output_type": "stream",
     "text": [
      "[1, 2, 'home', True]\n",
      "[]\n",
      "[1, 2, 3]\n"
     ]
    }
   ],
   "source": [
    "# contoh assignment variabel dalam bentuk list\n",
    "\n",
    "# membuat list yang berisikan beberapa data\n",
    "list1 = [1, 2, \"home\", True]\n",
    "\n",
    "# membuat list kosong\n",
    "list2 = []\n",
    "\n",
    "# alternatif cara untuk membuat list\n",
    "list3 = list((1, 2, 3))\n",
    "\n",
    "print(list1)\n",
    "print(list2)\n",
    "print(list3)"
   ]
  },
  {
   "cell_type": "code",
   "execution_count": 14,
   "metadata": {
    "ExecuteTime": {
     "end_time": "2025-05-31T00:15:15.587508Z",
     "start_time": "2025-05-31T00:15:15.579919Z"
    },
    "colab": {
     "base_uri": "https://localhost:8080/"
    },
    "executionInfo": {
     "elapsed": 382,
     "status": "ok",
     "timestamp": 1688032087615,
     "user": {
      "displayName": "Xnvl S",
      "userId": "09625641944926601818"
     },
     "user_tz": -420
    },
    "id": "LdnVG5KvdDLA",
    "outputId": "d6e622ec-a63d-4467-bcec-09f0995f3686"
   },
   "outputs": [
    {
     "name": "stdout",
     "output_type": "stream",
     "text": [
      "12\n",
      "home\n",
      "[2, 'home']\n",
      "[12, 2, 'home', True]\n",
      "[2, 2, 2, 2]\n"
     ]
    }
   ],
   "source": [
    "# pemanggilan data pada indeks tertentu\n",
    "print(list1[0])\n",
    "# print(list1[1])\n",
    "\n",
    "# pemanggilan data pada indeks negatif\n",
    "# print(list1[-1])\n",
    "print(list1[-2])\n",
    "\n",
    "# pemanggilan data pada range indeks tertentu (slicing)\n",
    "print(list1[1:3])\n",
    "\n",
    "# assignment suatu data ke indeks tertentu\n",
    "list1[0] = 12\n",
    "print(list1)\n",
    "\n",
    "# menambahkan data dengan method append\n",
    "list2.append(2)\n",
    "print(list2)"
   ]
  },
  {
   "cell_type": "code",
   "execution_count": 15,
   "metadata": {
    "ExecuteTime": {
     "end_time": "2025-05-31T00:15:53.579773Z",
     "start_time": "2025-05-31T00:15:53.570519Z"
    }
   },
   "outputs": [
    {
     "data": {
      "text/plain": [
       "[2, 2, 2, 2, 2]"
      ]
     },
     "execution_count": 15,
     "metadata": {},
     "output_type": "execute_result"
    }
   ],
   "source": [
    "list2.append(2)\n",
    "list2"
   ]
  },
  {
   "cell_type": "markdown",
   "metadata": {
    "id": "7kJvuOh9aJHP"
   },
   "source": [
    "## Tuple\n"
   ]
  },
  {
   "cell_type": "code",
   "execution_count": 16,
   "metadata": {
    "ExecuteTime": {
     "end_time": "2025-05-31T00:16:19.418022Z",
     "start_time": "2025-05-31T00:16:19.409256Z"
    },
    "colab": {
     "base_uri": "https://localhost:8080/"
    },
    "executionInfo": {
     "elapsed": 4,
     "status": "ok",
     "timestamp": 1688032356324,
     "user": {
      "displayName": "Xnvl S",
      "userId": "09625641944926601818"
     },
     "user_tz": -420
    },
    "id": "5Ro2v5YfaQFD",
    "outputId": "8368345a-cd97-4d76-b8d8-58a3e0c7a611"
   },
   "outputs": [
    {
     "name": "stdout",
     "output_type": "stream",
     "text": [
      "(1, 2, 'home', True)\n",
      "()\n",
      "(1, 2, 4, 12, 'hi')\n"
     ]
    }
   ],
   "source": [
    "# contoh assignment variabel dalam bentuk tuple\n",
    "\n",
    "# membuat tuple yang berisikan beberapa data\n",
    "tuple1 = (1, 2, \"home\", True)\n",
    "\n",
    "# membuat tuple kosong\n",
    "tuple2 = ()\n",
    "\n",
    "# alternatif cara untuk membuat tuple\n",
    "tuple3 = tuple((1, 2, 4, 12, \"hi\"))\n",
    "\n",
    "print(tuple1)\n",
    "print(tuple2)\n",
    "print(tuple3)"
   ]
  },
  {
   "cell_type": "code",
   "execution_count": 18,
   "metadata": {
    "ExecuteTime": {
     "end_time": "2025-05-31T00:16:43.144977Z",
     "start_time": "2025-05-31T00:16:43.136813Z"
    },
    "colab": {
     "base_uri": "https://localhost:8080/"
    },
    "executionInfo": {
     "elapsed": 3,
     "status": "ok",
     "timestamp": 1688032169691,
     "user": {
      "displayName": "Xnvl S",
      "userId": "09625641944926601818"
     },
     "user_tz": -420
    },
    "id": "UoCZemQnc-dO",
    "outputId": "3ee6db4c-aa71-4a56-d87d-f8ab37181457"
   },
   "outputs": [
    {
     "name": "stdout",
     "output_type": "stream",
     "text": [
      "1\n",
      "True\n",
      "(2, 'home')\n"
     ]
    }
   ],
   "source": [
    "# pemanggilan data pada indeks tertentu\n",
    "print(tuple1[0])\n",
    "\n",
    "# pemanggilan data pada indeks negatif\n",
    "print(tuple1[-1])\n",
    "\n",
    "# pemanggilan data pada range indeks tertentu (slicing)\n",
    "print(tuple1[1:3])\n",
    "\n",
    "# kode di bawah akan error, karena tuple bersifat immutable\n",
    "# tuple1[0] = 12\n",
    "# print(tuple1)"
   ]
  },
  {
   "cell_type": "markdown",
   "metadata": {
    "id": "KT3XIB08a_B_"
   },
   "source": [
    "## Set"
   ]
  },
  {
   "cell_type": "code",
   "execution_count": 20,
   "metadata": {
    "ExecuteTime": {
     "end_time": "2025-05-31T00:17:10.335559Z",
     "start_time": "2025-05-31T00:17:10.327533Z"
    },
    "colab": {
     "base_uri": "https://localhost:8080/"
    },
    "executionInfo": {
     "elapsed": 413,
     "status": "ok",
     "timestamp": 1688032302452,
     "user": {
      "displayName": "Xnvl S",
      "userId": "09625641944926601818"
     },
     "user_tz": -420
    },
    "id": "N83Z4CEMapEe",
    "outputId": "4f9c0585-dfc6-4b08-daef-3d764f56a5ca"
   },
   "outputs": [
    {
     "name": "stdout",
     "output_type": "stream",
     "text": [
      "{'ini set', 1, 2, 3, 'hi'}\n",
      "{8, 1, 'python', 7}\n"
     ]
    }
   ],
   "source": [
    "# contoh assignment variabel dalam bentuk set\n",
    "\n",
    "# membuat set yang berisikan beberapa data\n",
    "set1 = {1, 2, 3, \"ini set\", \"hi\"}\n",
    "\n",
    "# alternatif cara untuk membuat set\n",
    "set2 = {1, 8, \"python\", 7}\n",
    "\n",
    "print(set1)\n",
    "print(set2)"
   ]
  },
  {
   "cell_type": "code",
   "execution_count": 21,
   "metadata": {
    "ExecuteTime": {
     "end_time": "2025-05-31T00:17:25.407151Z",
     "start_time": "2025-05-31T00:17:25.364064Z"
    },
    "colab": {
     "base_uri": "https://localhost:8080/",
     "height": 175
    },
    "executionInfo": {
     "elapsed": 328,
     "status": "error",
     "timestamp": 1688032309740,
     "user": {
      "displayName": "Xnvl S",
      "userId": "09625641944926601818"
     },
     "user_tz": -420
    },
    "id": "lrnseO63d8G-",
    "outputId": "34f11dd6-7f8f-474f-bd52-a203c4d68057"
   },
   "outputs": [
    {
     "ename": "TypeError",
     "evalue": "'set' object is not subscriptable",
     "output_type": "error",
     "traceback": [
      "\u001b[31m---------------------------------------------------------------------------\u001b[39m",
      "\u001b[31mTypeError\u001b[39m                                 Traceback (most recent call last)",
      "\u001b[36mCell\u001b[39m\u001b[36m \u001b[39m\u001b[32mIn[21]\u001b[39m\u001b[32m, line 2\u001b[39m\n\u001b[32m      1\u001b[39m \u001b[38;5;66;03m# set bersifat onordered sehingga tidak memiliki indeks untuk setiap elemen di dalamnya\u001b[39;00m\n\u001b[32m----> \u001b[39m\u001b[32m2\u001b[39m \u001b[38;5;28mprint\u001b[39m(\u001b[43mset1\u001b[49m\u001b[43m[\u001b[49m\u001b[32;43m1\u001b[39;49m\u001b[43m]\u001b[49m)\n",
      "\u001b[31mTypeError\u001b[39m: 'set' object is not subscriptable"
     ]
    }
   ],
   "source": [
    "# set bersifat onordered sehingga tidak memiliki indeks untuk setiap elemen di dalamnya\n",
    "print(set1[1])"
   ]
  },
  {
   "cell_type": "code",
   "execution_count": 22,
   "metadata": {
    "ExecuteTime": {
     "end_time": "2025-05-31T00:17:37.901754Z",
     "start_time": "2025-05-31T00:17:37.891655Z"
    },
    "colab": {
     "base_uri": "https://localhost:8080/"
    },
    "executionInfo": {
     "elapsed": 4,
     "status": "ok",
     "timestamp": 1688032393181,
     "user": {
      "displayName": "Xnvl S",
      "userId": "09625641944926601818"
     },
     "user_tz": -420
    },
    "id": "CWz5lmYAkfCO",
    "outputId": "9f131f00-82de-4ddf-cfa8-c52349d6b9c7"
   },
   "outputs": [
    {
     "data": {
      "text/plain": [
       "{1, 3, 'hi', 'ini set'}"
      ]
     },
     "execution_count": 22,
     "metadata": {},
     "output_type": "execute_result"
    }
   ],
   "source": [
    "set1 = {1, 1, 3, \"ini set\", \"hi\"}\n",
    "\n",
    "set1"
   ]
  },
  {
   "cell_type": "markdown",
   "metadata": {
    "id": "y7KW4jxobBVx"
   },
   "source": [
    "## Dictionary"
   ]
  },
  {
   "cell_type": "code",
   "execution_count": 30,
   "metadata": {
    "ExecuteTime": {
     "end_time": "2025-05-31T00:23:19.608022Z",
     "start_time": "2025-05-31T00:23:19.601098Z"
    },
    "colab": {
     "base_uri": "https://localhost:8080/"
    },
    "executionInfo": {
     "elapsed": 4,
     "status": "ok",
     "timestamp": 1688032485299,
     "user": {
      "displayName": "Xnvl S",
      "userId": "09625641944926601818"
     },
     "user_tz": -420
    },
    "id": "0w_QSjf-bDBp",
    "outputId": "715a177c-c701-4e3e-bf27-0e59048759b7"
   },
   "outputs": [
    {
     "name": "stdout",
     "output_type": "stream",
     "text": [
      "{'nama': 'jojon', 'umur': 30}\n",
      "{}\n",
      "{1: 'apple', 2: 'cherry', 3: 'strawberry'}\n"
     ]
    }
   ],
   "source": [
    "# contoh assignment variabel dalam bentuk dictionary\n",
    "\n",
    "# membuat dictionary yang berisikan beberapa data\n",
    "dict1 = {\"nama\" : \"jojon\", \"umur\" : 30}\n",
    "\n",
    "# membuat dictionary kosong\n",
    "dict2 = {}\n",
    "\n",
    "# alternatif cara untuk membuat dictionary\n",
    "dict3 = dict({1:\"apple\",2:\"cherry\",3:\"strawberry\"})\n",
    "\n",
    "print(dict1)\n",
    "print(dict2)\n",
    "print(dict3)"
   ]
  },
  {
   "cell_type": "code",
   "execution_count": 27,
   "metadata": {
    "ExecuteTime": {
     "end_time": "2025-05-31T00:20:01.489969Z",
     "start_time": "2025-05-31T00:20:01.480477Z"
    },
    "colab": {
     "base_uri": "https://localhost:8080/"
    },
    "executionInfo": {
     "elapsed": 3,
     "status": "ok",
     "timestamp": 1688032527835,
     "user": {
      "displayName": "Xnvl S",
      "userId": "09625641944926601818"
     },
     "user_tz": -420
    },
    "id": "HzOWd5DQeFqd",
    "outputId": "ded672a0-7a3d-4cb1-d563-fd1ce06a1c85"
   },
   "outputs": [
    {
     "name": "stdout",
     "output_type": "stream",
     "text": [
      "dict_keys(['name', 'umur'])\n",
      "dict_values(['john doe', 30])\n",
      "{'name': 'john doe', 'umur': 30, 'key1': 'replace_one'}\n"
     ]
    }
   ],
   "source": [
    "# melakukan print semua keys\n",
    "print(dict1.keys())\n",
    "\n",
    "# melakukan print semua values\n",
    "print(dict1.values())\n",
    "\n",
    "# assignment suatu nilai ke key tertentu\n",
    "dict1[\"key1\"]=\"replace_one\"\n",
    "print(dict1)"
   ]
  },
  {
   "cell_type": "code",
   "execution_count": 31,
   "metadata": {
    "ExecuteTime": {
     "end_time": "2025-05-31T00:23:22.142554Z",
     "start_time": "2025-05-31T00:23:22.133953Z"
    },
    "colab": {
     "base_uri": "https://localhost:8080/"
    },
    "executionInfo": {
     "elapsed": 5,
     "status": "ok",
     "timestamp": 1688032574050,
     "user": {
      "displayName": "Xnvl S",
      "userId": "09625641944926601818"
     },
     "user_tz": -420
    },
    "id": "55GaHUiHlL6H",
    "outputId": "6975ff84-3e77-4e70-c87a-57a1382773ad"
   },
   "outputs": [
    {
     "data": {
      "text/plain": [
       "{'nama': 'john doe', 'umur': 30}"
      ]
     },
     "execution_count": 31,
     "metadata": {},
     "output_type": "execute_result"
    }
   ],
   "source": [
    "# assignment suatu nilai ke key tertentu\n",
    "dict1[\"nama\"]=\"john doe\"\n",
    "\n",
    "dict1"
   ]
  }
 ],
 "metadata": {
  "colab": {
   "collapsed_sections": [
    "wqgdHEPTRUn4",
    "K2BojaluSb0P",
    "KT3XIB08a_B_",
    "y7KW4jxobBVx"
   ],
   "provenance": []
  },
  "kernelspec": {
   "display_name": "Python 3 (ipykernel)",
   "language": "python",
   "name": "python3"
  },
  "language_info": {
   "codemirror_mode": {
    "name": "ipython",
    "version": 3
   },
   "file_extension": ".py",
   "mimetype": "text/x-python",
   "name": "python",
   "nbconvert_exporter": "python",
   "pygments_lexer": "ipython3",
   "version": "3.13.3"
  }
 },
 "nbformat": 4,
 "nbformat_minor": 4
}
