{
 "nbformat": 4,
 "nbformat_minor": 0,
 "metadata": {
  "colab": {
   "provenance": [],
   "collapsed_sections": [
    "wqgdHEPTRUn4",
    "K2BojaluSb0P",
    "KT3XIB08a_B_",
    "y7KW4jxobBVx"
   ]
  },
  "kernelspec": {
   "name": "python3",
   "display_name": "Python 3"
  },
  "language_info": {
   "name": "python"
  }
 },
 "cells": [
  {
   "cell_type": "markdown",
   "source": [
    "# Variable\n",
    "Variabel adalah lokasi penyimpanan yang diberi nama untuk menyimpan nilai dalam program."
   ],
   "metadata": {
    "id": "wqgdHEPTRUn4"
   }
  },
  {
   "cell_type": "code",
   "metadata": {
    "id": "rhufd7ovRNcn",
    "executionInfo": {
     "status": "ok",
     "timestamp": 1706588543353,
     "user_tz": -420,
     "elapsed": 6,
     "user": {
      "displayName": "Kursus Digital",
      "userId": "06750594469910948985"
     }
    },
    "ExecuteTime": {
     "end_time": "2025-05-31T00:09:33.479194Z",
     "start_time": "2025-05-31T00:09:33.469476Z"
    }
   },
   "source": [
    "# variabel dengan tipe data integer\n",
    "umur = 25\n",
    "# variabel dengan tipe data string\n",
    "nama = \"John Doe\"\n",
    "# variabel dengan tipe data float\n",
    "tinggi = 175.2\n",
    "# variabel dengan tipe data boolean\n",
    "is_member = True"
   ],
   "outputs": [],
   "execution_count": 1
  },
  {
   "metadata": {
    "ExecuteTime": {
     "end_time": "2025-05-31T00:11:20.040923Z",
     "start_time": "2025-05-31T00:11:20.033904Z"
    }
   },
   "cell_type": "code",
   "source": [
    "print(umur)\n",
    "# umur\n",
    "\n",
    "print(nama)\n",
    "# nama\n",
    "\n",
    "print(tinggi)\n",
    "# tinggi\n",
    "\n",
    "print(is_member)\n",
    "# is_member"
   ],
   "outputs": [
    {
     "name": "stdout",
     "output_type": "stream",
     "text": [
      "25\n",
      "John Doe\n",
      "175.2\n",
      "True\n"
     ]
    }
   ],
   "execution_count": 9
  },
  {
   "cell_type": "markdown",
   "source": [
    "# Assignment Variable\n",
    "Menggunakan tanda sama dengan (=) untuk melakukan assignment suatu nilai ke dalam variabel."
   ],
   "metadata": {
    "id": "K2BojaluSb0P"
   }
  },
  {
   "cell_type": "code",
   "source": [
    "x = 10\n",
    "y = \"Halo\"\n",
    "z = 3.14"
   ],
   "metadata": {
    "id": "PBbPlOD1SzbJ",
    "ExecuteTime": {
     "end_time": "2025-05-24T04:01:17.605863Z",
     "start_time": "2025-05-24T04:01:17.599524Z"
    }
   },
   "outputs": [],
   "execution_count": 3
  },
  {
   "cell_type": "markdown",
   "source": [
    "# Collection"
   ],
   "metadata": {
    "id": "IeLcDj7JS50_"
   }
  },
  {
   "cell_type": "markdown",
   "source": [
    "## List\n"
   ],
   "metadata": {
    "id": "3JaFDpUpZnb9"
   }
  },
  {
   "cell_type": "code",
   "source": [
    "# contoh assignment variabel dalam bentuk list\n",
    "\n",
    "# membuat list yang berisikan beberapa data\n",
    "list1 = [1, 2, \"home\", True]\n",
    "\n",
    "# membuat list kosong\n",
    "list2 = []\n",
    "\n",
    "# alternatif cara untuk membuat list\n",
    "list3 = list((1, 2, 3))\n",
    "\n",
    "print(list1)\n",
    "print(list2)\n",
    "print(list3)"
   ],
   "metadata": {
    "colab": {
     "base_uri": "https://localhost:8080/"
    },
    "id": "SIk7bg9GZm1R",
    "executionInfo": {
     "status": "ok",
     "timestamp": 1688032085414,
     "user_tz": -420,
     "elapsed": 334,
     "user": {
      "displayName": "Xnvl S",
      "userId": "09625641944926601818"
     }
    },
    "outputId": "5e0c1b21-60d2-4146-a7ed-20383ea5e6fe",
    "ExecuteTime": {
     "end_time": "2025-05-31T00:11:51.073019Z",
     "start_time": "2025-05-31T00:11:51.065657Z"
    }
   },
   "outputs": [
    {
     "name": "stdout",
     "output_type": "stream",
     "text": [
      "[1, 2, 'home', True]\n",
      "[]\n",
      "[1, 2, 3]\n"
     ]
    }
   ],
   "execution_count": 10
  },
  {
   "cell_type": "code",
   "source": [
    "# pemanggilan data pada indeks tertentu\n",
    "print(list1[0])\n",
    "# print(list1[1])\n",
    "\n",
    "# pemanggilan data pada indeks negatif\n",
    "# print(list1[-1])\n",
    "print(list1[-2])\n",
    "\n",
    "# pemanggilan data pada range indeks tertentu (slicing)\n",
    "print(list1[1:3])\n",
    "\n",
    "# assignment suatu data ke indeks tertentu\n",
    "list1[0] = 12\n",
    "print(list1)\n",
    "\n",
    "# menambahkan data dengan method append\n",
    "list2.append(2)\n",
    "print(list2)"
   ],
   "metadata": {
    "colab": {
     "base_uri": "https://localhost:8080/"
    },
    "id": "LdnVG5KvdDLA",
    "executionInfo": {
     "status": "ok",
     "timestamp": 1688032087615,
     "user_tz": -420,
     "elapsed": 382,
     "user": {
      "displayName": "Xnvl S",
      "userId": "09625641944926601818"
     }
    },
    "outputId": "d6e622ec-a63d-4467-bcec-09f0995f3686",
    "ExecuteTime": {
     "end_time": "2025-05-31T00:15:15.587508Z",
     "start_time": "2025-05-31T00:15:15.579919Z"
    }
   },
   "outputs": [
    {
     "name": "stdout",
     "output_type": "stream",
     "text": [
      "12\n",
      "home\n",
      "[2, 'home']\n",
      "[12, 2, 'home', True]\n",
      "[2, 2, 2, 2]\n"
     ]
    }
   ],
   "execution_count": 14
  },
  {
   "metadata": {
    "ExecuteTime": {
     "end_time": "2025-05-31T00:15:53.579773Z",
     "start_time": "2025-05-31T00:15:53.570519Z"
    }
   },
   "cell_type": "code",
   "source": [
    "list2.append(2)\n",
    "list2"
   ],
   "outputs": [
    {
     "data": {
      "text/plain": [
       "[2, 2, 2, 2, 2]"
      ]
     },
     "execution_count": 15,
     "metadata": {},
     "output_type": "execute_result"
    }
   ],
   "execution_count": 15
  },
  {
   "cell_type": "markdown",
   "source": [
    "## Tuple\n"
   ],
   "metadata": {
    "id": "7kJvuOh9aJHP"
   }
  },
  {
   "cell_type": "code",
   "source": [
    "# contoh assignment variabel dalam bentuk tuple\n",
    "\n",
    "# membuat tuple yang berisikan beberapa data\n",
    "tuple1 = (1, 2, \"home\", True)\n",
    "\n",
    "# membuat tuple kosong\n",
    "tuple2 = ()\n",
    "\n",
    "# alternatif cara untuk membuat tuple\n",
    "tuple3 = tuple((1, 2, 4, 12, \"hi\"))\n",
    "\n",
    "print(tuple1)\n",
    "print(tuple2)\n",
    "print(tuple3)"
   ],
   "metadata": {
    "colab": {
     "base_uri": "https://localhost:8080/"
    },
    "id": "5Ro2v5YfaQFD",
    "executionInfo": {
     "status": "ok",
     "timestamp": 1688032356324,
     "user_tz": -420,
     "elapsed": 4,
     "user": {
      "displayName": "Xnvl S",
      "userId": "09625641944926601818"
     }
    },
    "outputId": "8368345a-cd97-4d76-b8d8-58a3e0c7a611",
    "ExecuteTime": {
     "end_time": "2025-05-31T00:16:19.418022Z",
     "start_time": "2025-05-31T00:16:19.409256Z"
    }
   },
   "outputs": [
    {
     "name": "stdout",
     "output_type": "stream",
     "text": [
      "(1, 2, 'home', True)\n",
      "()\n",
      "(1, 2, 4, 12, 'hi')\n"
     ]
    }
   ],
   "execution_count": 16
  },
  {
   "cell_type": "code",
   "source": [
    "# pemanggilan data pada indeks tertentu\n",
    "print(tuple1[0])\n",
    "\n",
    "# pemanggilan data pada indeks negatif\n",
    "print(tuple1[-1])\n",
    "\n",
    "# pemanggilan data pada range indeks tertentu (slicing)\n",
    "print(tuple1[1:3])\n",
    "\n",
    "# kode di bawah akan error, karena tuple bersifat immutable\n",
    "# tuple1[0] = 12\n",
    "# print(tuple1)"
   ],
   "metadata": {
    "colab": {
     "base_uri": "https://localhost:8080/"
    },
    "id": "UoCZemQnc-dO",
    "executionInfo": {
     "status": "ok",
     "timestamp": 1688032169691,
     "user_tz": -420,
     "elapsed": 3,
     "user": {
      "displayName": "Xnvl S",
      "userId": "09625641944926601818"
     }
    },
    "outputId": "3ee6db4c-aa71-4a56-d87d-f8ab37181457",
    "ExecuteTime": {
     "end_time": "2025-05-31T00:16:43.144977Z",
     "start_time": "2025-05-31T00:16:43.136813Z"
    }
   },
   "outputs": [
    {
     "name": "stdout",
     "output_type": "stream",
     "text": [
      "1\n",
      "True\n",
      "(2, 'home')\n"
     ]
    }
   ],
   "execution_count": 18
  },
  {
   "cell_type": "markdown",
   "source": [
    "## Set"
   ],
   "metadata": {
    "id": "KT3XIB08a_B_"
   }
  },
  {
   "cell_type": "code",
   "source": [
    "# contoh assignment variabel dalam bentuk set\n",
    "\n",
    "# membuat set yang berisikan beberapa data\n",
    "set1 = {1, 2, 3, \"ini set\", \"hi\"}\n",
    "\n",
    "# alternatif cara untuk membuat set\n",
    "set2 = {1, 8, \"python\", 7}\n",
    "\n",
    "print(set1)\n",
    "print(set2)"
   ],
   "metadata": {
    "colab": {
     "base_uri": "https://localhost:8080/"
    },
    "id": "N83Z4CEMapEe",
    "executionInfo": {
     "status": "ok",
     "timestamp": 1688032302452,
     "user_tz": -420,
     "elapsed": 413,
     "user": {
      "displayName": "Xnvl S",
      "userId": "09625641944926601818"
     }
    },
    "outputId": "4f9c0585-dfc6-4b08-daef-3d764f56a5ca",
    "ExecuteTime": {
     "end_time": "2025-05-31T00:17:10.335559Z",
     "start_time": "2025-05-31T00:17:10.327533Z"
    }
   },
   "outputs": [
    {
     "name": "stdout",
     "output_type": "stream",
     "text": [
      "{'ini set', 1, 2, 3, 'hi'}\n",
      "{8, 1, 'python', 7}\n"
     ]
    }
   ],
   "execution_count": 20
  },
  {
   "cell_type": "code",
   "source": [
    "# set bersifat onordered sehingga tidak memiliki indeks untuk setiap elemen di dalamnya\n",
    "print(set1[1])"
   ],
   "metadata": {
    "colab": {
     "base_uri": "https://localhost:8080/",
     "height": 175
    },
    "id": "lrnseO63d8G-",
    "executionInfo": {
     "status": "error",
     "timestamp": 1688032309740,
     "user_tz": -420,
     "elapsed": 328,
     "user": {
      "displayName": "Xnvl S",
      "userId": "09625641944926601818"
     }
    },
    "outputId": "34f11dd6-7f8f-474f-bd52-a203c4d68057",
    "ExecuteTime": {
     "end_time": "2025-05-31T00:17:25.407151Z",
     "start_time": "2025-05-31T00:17:25.364064Z"
    }
   },
   "outputs": [
    {
     "ename": "TypeError",
     "evalue": "'set' object is not subscriptable",
     "output_type": "error",
     "traceback": [
      "\u001B[31m---------------------------------------------------------------------------\u001B[39m",
      "\u001B[31mTypeError\u001B[39m                                 Traceback (most recent call last)",
      "\u001B[36mCell\u001B[39m\u001B[36m \u001B[39m\u001B[32mIn[21]\u001B[39m\u001B[32m, line 2\u001B[39m\n\u001B[32m      1\u001B[39m \u001B[38;5;66;03m# set bersifat onordered sehingga tidak memiliki indeks untuk setiap elemen di dalamnya\u001B[39;00m\n\u001B[32m----> \u001B[39m\u001B[32m2\u001B[39m \u001B[38;5;28mprint\u001B[39m(\u001B[43mset1\u001B[49m\u001B[43m[\u001B[49m\u001B[32;43m1\u001B[39;49m\u001B[43m]\u001B[49m)\n",
      "\u001B[31mTypeError\u001B[39m: 'set' object is not subscriptable"
     ]
    }
   ],
   "execution_count": 21
  },
  {
   "cell_type": "code",
   "source": [
    "set1 = {1, 1, 3, \"ini set\", \"hi\"}\n",
    "\n",
    "set1"
   ],
   "metadata": {
    "colab": {
     "base_uri": "https://localhost:8080/"
    },
    "id": "CWz5lmYAkfCO",
    "executionInfo": {
     "status": "ok",
     "timestamp": 1688032393181,
     "user_tz": -420,
     "elapsed": 4,
     "user": {
      "displayName": "Xnvl S",
      "userId": "09625641944926601818"
     }
    },
    "outputId": "9f131f00-82de-4ddf-cfa8-c52349d6b9c7",
    "ExecuteTime": {
     "end_time": "2025-05-31T00:17:37.901754Z",
     "start_time": "2025-05-31T00:17:37.891655Z"
    }
   },
   "outputs": [
    {
     "data": {
      "text/plain": [
       "{1, 3, 'hi', 'ini set'}"
      ]
     },
     "execution_count": 22,
     "metadata": {},
     "output_type": "execute_result"
    }
   ],
   "execution_count": 22
  },
  {
   "cell_type": "markdown",
   "source": [
    "## Dictionary"
   ],
   "metadata": {
    "id": "y7KW4jxobBVx"
   }
  },
  {
   "cell_type": "code",
   "source": [
    "# contoh assignment variabel dalam bentuk dictionary\n",
    "\n",
    "# membuat dictionary yang berisikan beberapa data\n",
    "dict1 = {\"name\" : \"john doe\", \"umur\" : 30}\n",
    "\n",
    "# membuat dictionary kosong\n",
    "dict2 = {}\n",
    "\n",
    "# alternatif cara untuk membuat dictionary\n",
    "dict3 = dict({1:\"apple\",2:\"cherry\",3:\"strawberry\"})\n",
    "\n",
    "print(dict1)\n",
    "print(dict2)\n",
    "print(dict3)"
   ],
   "metadata": {
    "colab": {
     "base_uri": "https://localhost:8080/"
    },
    "id": "0w_QSjf-bDBp",
    "executionInfo": {
     "status": "ok",
     "timestamp": 1688032485299,
     "user_tz": -420,
     "elapsed": 4,
     "user": {
      "displayName": "Xnvl S",
      "userId": "09625641944926601818"
     }
    },
    "outputId": "715a177c-c701-4e3e-bf27-0e59048759b7",
    "ExecuteTime": {
     "end_time": "2025-05-31T00:19:45.464685Z",
     "start_time": "2025-05-31T00:19:45.456012Z"
    }
   },
   "outputs": [
    {
     "name": "stdout",
     "output_type": "stream",
     "text": [
      "{'name': 'john doe', 'umur': 30}\n",
      "{}\n",
      "{1: 'apple', 2: 'cherry', 3: 'strawberry'}\n"
     ]
    }
   ],
   "execution_count": 26
  },
  {
   "cell_type": "code",
   "source": [
    "# melakukan print semua keys\n",
    "print(dict1.keys())\n",
    "\n",
    "# melakukan print semua values\n",
    "print(dict1.values())\n",
    "\n",
    "# assignment suatu nilai ke key tertentu\n",
    "dict1[\"key1\"]=\"replace_one\"\n",
    "print(dict1)"
   ],
   "metadata": {
    "colab": {
     "base_uri": "https://localhost:8080/"
    },
    "id": "HzOWd5DQeFqd",
    "executionInfo": {
     "status": "ok",
     "timestamp": 1688032527835,
     "user_tz": -420,
     "elapsed": 3,
     "user": {
      "displayName": "Xnvl S",
      "userId": "09625641944926601818"
     }
    },
    "outputId": "ded672a0-7a3d-4cb1-d563-fd1ce06a1c85",
    "ExecuteTime": {
     "end_time": "2025-05-31T00:20:01.489969Z",
     "start_time": "2025-05-31T00:20:01.480477Z"
    }
   },
   "outputs": [
    {
     "name": "stdout",
     "output_type": "stream",
     "text": [
      "dict_keys(['name', 'umur'])\n",
      "dict_values(['john doe', 30])\n",
      "{'name': 'john doe', 'umur': 30, 'key1': 'replace_one'}\n"
     ]
    }
   ],
   "execution_count": 27
  },
  {
   "cell_type": "code",
   "source": [
    "dict1[\"nama\"]=\"john doe\"\n",
    "\n",
    "dict1"
   ],
   "metadata": {
    "id": "55GaHUiHlL6H",
    "executionInfo": {
     "status": "ok",
     "timestamp": 1688032574050,
     "user_tz": -420,
     "elapsed": 5,
     "user": {
      "displayName": "Xnvl S",
      "userId": "09625641944926601818"
     }
    },
    "outputId": "6975ff84-3e77-4e70-c87a-57a1382773ad",
    "colab": {
     "base_uri": "https://localhost:8080/"
    },
    "ExecuteTime": {
     "end_time": "2025-05-31T00:20:19.416674Z",
     "start_time": "2025-05-31T00:20:19.407251Z"
    }
   },
   "outputs": [
    {
     "data": {
      "text/plain": [
       "{'name': 'john doe', 'umur': 30, 'key1': 'replace_one', 'nama': 'john doe'}"
      ]
     },
     "execution_count": 28,
     "metadata": {},
     "output_type": "execute_result"
    }
   ],
   "execution_count": 28
  }
 ]
}
