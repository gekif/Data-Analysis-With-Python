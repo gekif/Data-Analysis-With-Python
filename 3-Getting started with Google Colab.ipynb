{
 "nbformat": 4,
 "nbformat_minor": 0,
 "metadata": {
  "colab": {
   "provenance": [],
   "gpuType": "T4"
  },
  "kernelspec": {
   "name": "python3",
   "display_name": "Python 3"
  },
  "language_info": {
   "name": "python"
  },
  "accelerator": "GPU"
 },
 "cells": [
  {
   "cell_type": "markdown",
   "source": [
    "# Instalasi Package"
   ],
   "metadata": {
    "id": "PJB41xDJMTl_"
   }
  },
  {
   "cell_type": "code",
   "execution_count": null,
   "metadata": {
    "id": "JSivYm7HK9Vm"
   },
   "outputs": [],
   "source": [
    "# sintaks untuk menginstall package seperti numpy, tensorflow, matplotlib, dll\n",
    "%pip install nama_package"
   ]
  },
  {
   "cell_type": "code",
   "source": [
    "# contohnya menginstall numpy\n",
    "%pip install numpy"
   ],
   "metadata": {
    "id": "47YALBkYMKBE",
    "colab": {
     "base_uri": "https://localhost:8080/"
    },
    "executionInfo": {
     "status": "ok",
     "timestamp": 1688030286359,
     "user_tz": -420,
     "elapsed": 4382,
     "user": {
      "displayName": "Xnvl S",
      "userId": "09625641944926601818"
     }
    },
    "outputId": "b79c1b78-2326-41f9-8415-5e06f7eec888",
    "jupyter": {
     "is_executing": true
    }
   },
   "outputs": [],
   "execution_count": null
  },
  {
   "cell_type": "markdown",
   "source": [
    "# Upload dan Export Data"
   ],
   "metadata": {
    "id": "rrgdVar1MW1h"
   }
  },
  {
   "cell_type": "code",
   "source": [
    "# sintaks untuk mengupload data\n",
    "# digunakan di google colab\n",
    "from google.colab import files\n",
    "uploaded = files.upload()"
   ],
   "metadata": {
    "id": "-vP8_-RvMbFv",
    "colab": {
     "base_uri": "https://localhost:8080/",
     "height": 65
    },
    "executionInfo": {
     "status": "ok",
     "timestamp": 1688030340815,
     "user_tz": -420,
     "elapsed": 10935,
     "user": {
      "displayName": "Xnvl S",
      "userId": "09625641944926601818"
     }
    },
    "outputId": "768271c6-7665-405b-aea5-58ad2a6c3689",
    "ExecuteTime": {
     "end_time": "2025-05-30T23:55:20.735197Z",
     "start_time": "2025-05-30T23:55:19.998778Z"
    }
   },
   "outputs": [
    {
     "ename": "ModuleNotFoundError",
     "evalue": "No module named 'google'",
     "output_type": "error",
     "traceback": [
      "\u001B[31m---------------------------------------------------------------------------\u001B[39m",
      "\u001B[31mModuleNotFoundError\u001B[39m                       Traceback (most recent call last)",
      "\u001B[36mCell\u001B[39m\u001B[36m \u001B[39m\u001B[32mIn[2]\u001B[39m\u001B[32m, line 2\u001B[39m\n\u001B[32m      1\u001B[39m \u001B[38;5;66;03m# sintaks untuk mengupload data\u001B[39;00m\n\u001B[32m----> \u001B[39m\u001B[32m2\u001B[39m \u001B[38;5;28;01mfrom\u001B[39;00m\u001B[38;5;250m \u001B[39m\u001B[34;01mgoogle\u001B[39;00m\u001B[34;01m.\u001B[39;00m\u001B[34;01mcolab\u001B[39;00m\u001B[38;5;250m \u001B[39m\u001B[38;5;28;01mimport\u001B[39;00m files\n\u001B[32m      3\u001B[39m uploaded = files.upload()\n",
      "\u001B[31mModuleNotFoundError\u001B[39m: No module named 'google'"
     ]
    }
   ],
   "execution_count": 2
  },
  {
   "cell_type": "code",
   "source": [
    "# sintaks untuk mendownload data\n",
    "# digunakan di google colab\n",
    "from google.colab import files\n",
    "uploaded = files.download('/content/Data Grade, Department, Position updated.xlsx')"
   ],
   "metadata": {
    "id": "vMaxwhE_NSYW",
    "colab": {
     "base_uri": "https://localhost:8080/",
     "height": 16
    },
    "executionInfo": {
     "status": "ok",
     "timestamp": 1688030360450,
     "user_tz": -420,
     "elapsed": 6,
     "user": {
      "displayName": "Xnvl S",
      "userId": "09625641944926601818"
     }
    },
    "outputId": "0c751a22-5fb6-4136-c84f-f02632d1dd60"
   },
   "execution_count": 4,
   "outputs": [
    {
     "output_type": "display_data",
     "data": {
      "text/plain": [
       "<IPython.core.display.Javascript object>"
      ],
      "application/javascript": [
       "\n",
       "    async function download(id, filename, size) {\n",
       "      if (!google.colab.kernel.accessAllowed) {\n",
       "        return;\n",
       "      }\n",
       "      const div = document.createElement('div');\n",
       "      const label = document.createElement('label');\n",
       "      label.textContent = `Downloading \"${filename}\": `;\n",
       "      div.appendChild(label);\n",
       "      const progress = document.createElement('progress');\n",
       "      progress.max = size;\n",
       "      div.appendChild(progress);\n",
       "      document.body.appendChild(div);\n",
       "\n",
       "      const buffers = [];\n",
       "      let downloaded = 0;\n",
       "\n",
       "      const channel = await google.colab.kernel.comms.open(id);\n",
       "      // Send a message to notify the kernel that we're ready.\n",
       "      channel.send({})\n",
       "\n",
       "      for await (const message of channel.messages) {\n",
       "        // Send a message to notify the kernel that we're ready.\n",
       "        channel.send({})\n",
       "        if (message.buffers) {\n",
       "          for (const buffer of message.buffers) {\n",
       "            buffers.push(buffer);\n",
       "            downloaded += buffer.byteLength;\n",
       "            progress.value = downloaded;\n",
       "          }\n",
       "        }\n",
       "      }\n",
       "      const blob = new Blob(buffers, {type: 'application/binary'});\n",
       "      const a = document.createElement('a');\n",
       "      a.href = window.URL.createObjectURL(blob);\n",
       "      a.download = filename;\n",
       "      div.appendChild(a);\n",
       "      a.click();\n",
       "      div.remove();\n",
       "    }\n",
       "  "
      ]
     },
     "metadata": {}
    },
    {
     "output_type": "display_data",
     "data": {
      "text/plain": [
       "<IPython.core.display.Javascript object>"
      ],
      "application/javascript": [
       "download(\"download_ee5b499e-e88e-4ad1-8f1f-b2c7f957c918\", \"Data Grade, Department, Position updated.xlsx\", 18152)"
      ]
     },
     "metadata": {}
    }
   ]
  }
 ]
}
