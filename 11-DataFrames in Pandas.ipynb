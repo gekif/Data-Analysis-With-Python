{
 "nbformat": 4,
 "nbformat_minor": 0,
 "metadata": {
  "colab": {
   "provenance": [],
   "authorship_tag": "ABX9TyOKMMZ7KmZx37V+aJ0nPQfZ"
  },
  "kernelspec": {
   "name": "python3",
   "display_name": "Python 3"
  },
  "language_info": {
   "name": "python"
  }
 },
 "cells": [
  {
   "cell_type": "markdown",
   "source": [
    "# DataFrames in Pandas"
   ],
   "metadata": {
    "id": "x-rlzjL65M5l"
   }
  },
  {
   "cell_type": "markdown",
   "source": [
    "## Introduction to DataFrames\n",
    "\n",
    "DataFrames adalah struktur data tabular dua dimensi yang powerful di Pandas. DataFrames mirip dengan tabel dalam spreadsheet atau database. DataFrames ini terdiri dari baris dan kolom, dan setiap kolom dapat memiliki tipe data yang berbeda."
   ],
   "metadata": {
    "id": "CVPa2IIO5Txq"
   }
  },
  {
   "cell_type": "markdown",
   "source": [
    "## Creating and Manipulating DataFrames"
   ],
   "metadata": {
    "id": "wO1MR9g75fiV"
   }
  },
  {
   "cell_type": "code",
   "metadata": {
    "colab": {
     "base_uri": "https://localhost:8080/"
    },
    "id": "C_0Vdp6k05Rc",
    "executionInfo": {
     "status": "ok",
     "timestamp": 1688994218751,
     "user_tz": -420,
     "elapsed": 512,
     "user": {
      "displayName": "Rian Febriansyah",
      "userId": "09249289355477225882"
     }
    },
    "outputId": "eb04d8bd-4524-43f5-98d1-1aaefa1e3122",
    "ExecuteTime": {
     "end_time": "2025-06-28T04:11:31.531952Z",
     "start_time": "2025-06-28T04:11:30.553637Z"
    }
   },
   "source": [
    "import pandas as pd\n",
    "\n",
    "# Membuat DataFrame dari dictionary\n",
    "data = {'Nama': ['Andi', 'Budi', 'Cindy', 'Dewi'],\n",
    "        'Nilai': [85, 90, 92, 88]}\n",
    "\n",
    "df = pd.DataFrame(data)\n",
    "print(df)\n"
   ],
   "outputs": [
    {
     "name": "stdout",
     "output_type": "stream",
     "text": [
      "    Nama  Nilai\n",
      "0   Andi     85\n",
      "1   Budi     90\n",
      "2  Cindy     92\n",
      "3   Dewi     88\n"
     ]
    }
   ],
   "execution_count": 1
  },
  {
   "cell_type": "markdown",
   "source": [
    "## Performing Basic Operations on DataFrames"
   ],
   "metadata": {
    "id": "O5Q91ejV5p2G"
   }
  },
  {
   "cell_type": "code",
   "source": [
    "# Membuat DataFrame\n",
    "data = {'Nama': ['Andi', 'Budi', 'Cindy', 'Dewi'],\n",
    "        'Nilai': [85, 90, 92, 88]}\n",
    "df = pd.DataFrame(data)\n",
    "\n",
    "# Menampilkan informasi umum tentang DataFrame\n",
    "print(df.info())\n",
    "\n",
    "# Menampilkan ringkasan statistik DataFrame\n",
    "print(df.describe())\n",
    "\n",
    "# Mengurutkan DataFrame berdasarkan kolom 'Nilai' secara menurun (Descending)\n",
    "df_sorted = df.sort_values('Nilai', ascending=False)\n",
    "print(df_sorted)\n"
   ],
   "metadata": {
    "colab": {
     "base_uri": "https://localhost:8080/"
    },
    "id": "MPumX_5p5MtL",
    "executionInfo": {
     "status": "ok",
     "timestamp": 1688994247199,
     "user_tz": -420,
     "elapsed": 5,
     "user": {
      "displayName": "Rian Febriansyah",
      "userId": "09249289355477225882"
     }
    },
    "outputId": "d4002eb2-4d06-4405-a8b5-f180469341ab",
    "ExecuteTime": {
     "end_time": "2025-06-28T04:13:05.166570Z",
     "start_time": "2025-06-28T04:13:05.139795Z"
    }
   },
   "outputs": [
    {
     "name": "stdout",
     "output_type": "stream",
     "text": [
      "<class 'pandas.core.frame.DataFrame'>\n",
      "RangeIndex: 4 entries, 0 to 3\n",
      "Data columns (total 2 columns):\n",
      " #   Column  Non-Null Count  Dtype \n",
      "---  ------  --------------  ----- \n",
      " 0   Nama    4 non-null      object\n",
      " 1   Nilai   4 non-null      int64 \n",
      "dtypes: int64(1), object(1)\n",
      "memory usage: 196.0+ bytes\n",
      "None\n",
      "           Nilai\n",
      "count   4.000000\n",
      "mean   88.750000\n",
      "std     2.986079\n",
      "min    85.000000\n",
      "25%    87.250000\n",
      "50%    89.000000\n",
      "75%    90.500000\n",
      "max    92.000000\n",
      "    Nama  Nilai\n",
      "2  Cindy     92\n",
      "1   Budi     90\n",
      "3   Dewi     88\n",
      "0   Andi     85\n"
     ]
    }
   ],
   "execution_count": 3
  }
 ]
}
