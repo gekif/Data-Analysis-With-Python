{
 "nbformat": 4,
 "nbformat_minor": 0,
 "metadata": {
  "colab": {
   "provenance": []
  },
  "kernelspec": {
   "name": "python3",
   "display_name": "Python 3"
  },
  "language_info": {
   "name": "python"
  }
 },
 "cells": [
  {
   "cell_type": "markdown",
   "source": [
    "# Control Structures in Python"
   ],
   "metadata": {
    "id": "whCcsTVspeXA"
   }
  },
  {
   "cell_type": "markdown",
   "source": [
    "## Conditional Statements\n",
    "\n",
    "1. If statements\n",
    "```\n",
    "if kondisi:\n",
    "     # tambahkan kode yang akan dijalankan ketika kondisi terpenuhi di sini  \n",
    "```\n",
    "2. If-Else statement:\n",
    "```\n",
    "if kondisi:\n",
    "     # tambahkan kode yang akan dijalankan ketika kondisi terpenuhi di sini  \n",
    "else:\n",
    "     # tambahkan kode yang akan dijalankan ketika kondisi tidak terpenuhi\n",
    "```\n",
    "3. If-Elif-Else Statement:\n",
    "```\n",
    "if kondisi1:\n",
    "     # tambahkan kode yang akan dijalankan ketika kondisi 1 terpenuhi  \n",
    "elif kondisi2:\n",
    "     # tambahkan kode yang akan dijalankan ketika kondisi 2 terpenuhi\n",
    "else:\n",
    "     # tambahkan kode yang akan dijalankan ketika kondisi 1 dan 2 tidak terpenuhi\n",
    "```"
   ],
   "metadata": {
    "id": "F4HGXssJphJL"
   }
  },
  {
   "metadata": {},
   "cell_type": "markdown",
   "source": "Contoh penggunaan if statement"
  },
  {
   "metadata": {
    "ExecuteTime": {
     "end_time": "2025-05-31T12:32:57.565750Z",
     "start_time": "2025-05-31T12:32:57.556611Z"
    }
   },
   "cell_type": "code",
   "source": [
    "suhu = 20\n",
    "\n",
    "if suhu > 30:\n",
    "  print(\"Panas\")\n",
    "\n",
    "# Jika suhu tidak lebih dari 30, maka tidak menampilkan apa-apa\n"
   ],
   "outputs": [],
   "execution_count": 1
  },
  {
   "metadata": {},
   "cell_type": "markdown",
   "source": "Contoh penggunaan if-else statement"
  },
  {
   "metadata": {
    "ExecuteTime": {
     "end_time": "2025-05-31T12:35:53.853449Z",
     "start_time": "2025-05-31T12:35:53.847671Z"
    }
   },
   "cell_type": "code",
   "source": [
    "suhu = 20 # Output tidak panas\n",
    "# suhu = 40 # Output panas\n",
    "\n",
    "if suhu > 30:\n",
    "  print(\"Panas\")\n",
    "else:\n",
    "  print(\"Tidak Panas\")\n"
   ],
   "outputs": [
    {
     "name": "stdout",
     "output_type": "stream",
     "text": [
      "Tidak Panas\n"
     ]
    }
   ],
   "execution_count": 4
  },
  {
   "metadata": {},
   "cell_type": "markdown",
   "source": "Contoh penggunaan if-elif-else statement"
  },
  {
   "metadata": {},
   "cell_type": "markdown",
   "source": "Contoh penggunaan if-elif-else statement 1"
  },
  {
   "metadata": {
    "ExecuteTime": {
     "end_time": "2025-05-31T12:40:43.329258Z",
     "start_time": "2025-05-31T12:40:43.324040Z"
    }
   },
   "cell_type": "code",
   "source": [
    "suhu = 50 # Output panas\n",
    "# suhu = 5 # Output dingin\n",
    "# suhu = 20 # Output cuaca normal\n",
    "\n",
    "if suhu > 30:\n",
    "  print(\"Panas\")\n",
    "elif 0 < suhu <= 10:\n",
    "  print(\"Dingin\")\n",
    "else:\n",
    "  print(\"Cuaca normal\")"
   ],
   "outputs": [
    {
     "name": "stdout",
     "output_type": "stream",
     "text": [
      "Panas\n"
     ]
    }
   ],
   "execution_count": 11
  },
  {
   "metadata": {},
   "cell_type": "markdown",
   "source": "Contoh penggunaan if-elif-else statement 2"
  },
  {
   "metadata": {
    "ExecuteTime": {
     "end_time": "2025-05-31T12:42:52.020222Z",
     "start_time": "2025-05-31T12:42:52.015010Z"
    }
   },
   "cell_type": "code",
   "source": [
    "suhu = 100\n",
    "\n",
    "if  30 < suhu <= 70:\n",
    "  print(\"Panas\")\n",
    "elif 0 < suhu <= 10:\n",
    "  print(\"Dingin\")\n",
    "elif suhu > 70:\n",
    "    print(\"Sangat Panas\")\n",
    "else:\n",
    "  print(\"Cuaca normal\")"
   ],
   "outputs": [
    {
     "name": "stdout",
     "output_type": "stream",
     "text": [
      "Sangat Panas\n"
     ]
    }
   ],
   "execution_count": 13
  },
  {
   "cell_type": "code",
   "metadata": {
    "colab": {
     "base_uri": "https://localhost:8080/"
    },
    "id": "e1c19AajpZXd",
    "executionInfo": {
     "status": "ok",
     "timestamp": 1687782446685,
     "user_tz": -420,
     "elapsed": 362,
     "user": {
      "displayName": "Rian Febriansyah",
      "userId": "09249289355477225882"
     }
    },
    "outputId": "ee740c68-6bf4-4f9d-8f8a-5fcb4109ae13",
    "ExecuteTime": {
     "end_time": "2025-05-31T12:43:27.190134Z",
     "start_time": "2025-05-31T12:43:27.185926Z"
    }
   },
   "source": [
    "# contoh\n",
    "\n",
    "if(True):\n",
    "  print(\"contoh 1\")\n",
    "\n",
    "if(False):\n",
    "  print(\"contoh 1\")\n",
    "else:\n",
    "  print(\"contoh 2\")\n",
    "\n",
    "if(False):\n",
    "  print(\"contoh 1\")\n",
    "elif(False):\n",
    "  print(\"contoh 2\")\n",
    "else:\n",
    "  print(\"contoh 3\")"
   ],
   "outputs": [
    {
     "name": "stdout",
     "output_type": "stream",
     "text": [
      "contoh 1\n",
      "contoh 2\n",
      "contoh 3\n"
     ]
    }
   ],
   "execution_count": 14
  },
  {
   "cell_type": "markdown",
   "source": [
    "## Looping Structures\n",
    "1. For loop\n",
    "```\n",
    "for elements in sequence:\n",
    "  # blok kode yang akan dijalankan di setiap loop\n",
    "```\n",
    "\n",
    "\n",
    "2. While loop\n",
    "```\n",
    "while kondisi:\n",
    "  # blok kode yang akan dijalankan setiap kondisi bernilai benar\n",
    "```"
   ],
   "metadata": {
    "id": "CiLKF38OrGoQ"
   }
  },
  {
   "cell_type": "code",
   "source": [
    "# contoh\n",
    "elements = [1, 2, 3, 4]\n",
    "\n",
    "for element in elements:\n",
    "  print(element)\n"
   ],
   "metadata": {
    "colab": {
     "base_uri": "https://localhost:8080/"
    },
    "id": "J9NklA1Mrr2L",
    "executionInfo": {
     "status": "ok",
     "timestamp": 1688055108845,
     "user_tz": -420,
     "elapsed": 3,
     "user": {
      "displayName": "Xnvl S",
      "userId": "09625641944926601818"
     }
    },
    "outputId": "ccf907c2-f816-4d82-e1c1-e56d1dbbe06e",
    "ExecuteTime": {
     "end_time": "2025-05-31T12:44:38.404362Z",
     "start_time": "2025-05-31T12:44:38.399686Z"
    }
   },
   "outputs": [
    {
     "name": "stdout",
     "output_type": "stream",
     "text": [
      "1\n",
      "2\n",
      "3\n",
      "4\n"
     ]
    }
   ],
   "execution_count": 15
  },
  {
   "metadata": {},
   "cell_type": "markdown",
   "source": "Contoh penggunaan for loop"
  },
  {
   "metadata": {
    "ExecuteTime": {
     "end_time": "2025-05-31T12:46:20.078908Z",
     "start_time": "2025-05-31T12:46:20.073135Z"
    }
   },
   "cell_type": "code",
   "source": [
    "for i in range(5):\n",
    "  print(i) # Output: 0, 1, 2, 3, 4"
   ],
   "outputs": [
    {
     "name": "stdout",
     "output_type": "stream",
     "text": [
      "0\n",
      "1\n",
      "2\n",
      "3\n",
      "4\n"
     ]
    }
   ],
   "execution_count": 16
  },
  {
   "metadata": {},
   "cell_type": "markdown",
   "source": "Contoh penggunaan while loop 1"
  },
  {
   "cell_type": "code",
   "source": [
    "i = 5\n",
    "\n",
    "while i > 0:\n",
    "  print(i)\n",
    "  i -= 1"
   ],
   "metadata": {
    "colab": {
     "base_uri": "https://localhost:8080/"
    },
    "id": "buJU3eR_64aZ",
    "executionInfo": {
     "status": "ok",
     "timestamp": 1688055085606,
     "user_tz": -420,
     "elapsed": 525,
     "user": {
      "displayName": "Xnvl S",
      "userId": "09625641944926601818"
     }
    },
    "outputId": "d5d3d751-4224-4bbb-928c-3a95f435acc8",
    "ExecuteTime": {
     "end_time": "2025-05-31T12:47:11.295938Z",
     "start_time": "2025-05-31T12:47:11.291022Z"
    }
   },
   "outputs": [
    {
     "name": "stdout",
     "output_type": "stream",
     "text": [
      "5\n",
      "4\n",
      "3\n",
      "2\n",
      "1\n"
     ]
    }
   ],
   "execution_count": 17
  },
  {
   "metadata": {},
   "cell_type": "markdown",
   "source": "Contoh penggunaan while loop 2"
  },
  {
   "metadata": {
    "ExecuteTime": {
     "end_time": "2025-05-31T12:48:30.237002Z",
     "start_time": "2025-05-31T12:48:30.232317Z"
    }
   },
   "cell_type": "code",
   "source": [
    "a = 2\n",
    "\n",
    "while a < 5:\n",
    "  print(\"halo\")\n",
    "  a += 1"
   ],
   "outputs": [
    {
     "name": "stdout",
     "output_type": "stream",
     "text": [
      "halo\n",
      "halo\n",
      "halo\n"
     ]
    }
   ],
   "execution_count": 18
  },
  {
   "cell_type": "markdown",
   "source": [
    "## Control Statements\n",
    "1. Break statement\n",
    "```\n",
    "for element in sequence:\n",
    "    if kondisi_tertentu:\n",
    "          break\n",
    "    # kode lainnya\n",
    "```\n",
    "\n",
    "2. Continue statement\n",
    "```\n",
    "for element in sequence:\n",
    "    if kondisi_tertentu:\n",
    "          continue\n",
    "    # kode lainnya\n",
    "```"
   ],
   "metadata": {
    "id": "3UyXN6x7s4_h"
   }
  },
  {
   "cell_type": "code",
   "source": [
    "# contoh\n",
    "elements = [1, 2, 3, 4]\n",
    "\n",
    "# for element in elements:\n",
    "#   if element == 2:\n",
    "#     break\n",
    "#   print(element)\n",
    "\n",
    "for element in elements:\n",
    "  if element == 2:\n",
    "    continue\n",
    "  print(element)"
   ],
   "metadata": {
    "colab": {
     "base_uri": "https://localhost:8080/"
    },
    "id": "ilnzqucuwwP6",
    "executionInfo": {
     "status": "ok",
     "timestamp": 1688055249385,
     "user_tz": -420,
     "elapsed": 8,
     "user": {
      "displayName": "Xnvl S",
      "userId": "09625641944926601818"
     }
    },
    "outputId": "9c0d46a9-2a94-437f-d54c-95de96cf564f",
    "ExecuteTime": {
     "end_time": "2025-05-31T12:50:46.363583Z",
     "start_time": "2025-05-31T12:50:46.357996Z"
    }
   },
   "outputs": [
    {
     "name": "stdout",
     "output_type": "stream",
     "text": [
      "1\n",
      "3\n",
      "4\n"
     ]
    }
   ],
   "execution_count": 20
  }
 ]
}
