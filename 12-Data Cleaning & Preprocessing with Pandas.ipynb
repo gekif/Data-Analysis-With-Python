{
 "nbformat": 4,
 "nbformat_minor": 0,
 "metadata": {
  "colab": {
   "provenance": [],
   "authorship_tag": "ABX9TyOGUF3YUS7dji206q0ZufBS"
  },
  "kernelspec": {
   "name": "python3",
   "display_name": "Python 3"
  },
  "language_info": {
   "name": "python"
  }
 },
 "cells": [
  {
   "cell_type": "markdown",
   "source": [
    "# Data Cleaning and Preprocessing with Pandas"
   ],
   "metadata": {
    "id": "m48LxQPX8SpU"
   }
  },
  {
   "cell_type": "markdown",
   "source": [
    "## Handling Duplicate Data"
   ],
   "metadata": {
    "id": "_V08siK_8VR-"
   }
  },
  {
   "cell_type": "code",
   "source": [
    "import pandas as pd\n",
    "\n",
    "# Membuat DataFrame dengan data duplikat\n",
    "data = {'Nama': ['Andi', 'Budi', 'Cindy', 'Andi', 'Budi'],\n",
    "        'Nilai': [85, 90, 92, 88, 90]}\n",
    "\n",
    "df = pd.DataFrame(data)\n",
    "\n",
    "# Mendeteksi data duplikat\n",
    "print(df.duplicated())\n",
    "\n",
    "# Menghapus data duplikat\n",
    "df.drop_duplicates(inplace=True)\n",
    "print(df)\n"
   ],
   "metadata": {
    "colab": {
     "base_uri": "https://localhost:8080/"
    },
    "id": "ayZU5qVI8gwF",
    "executionInfo": {
     "status": "ok",
     "timestamp": 1688994986061,
     "user_tz": -420,
     "elapsed": 580,
     "user": {
      "displayName": "Rian Febriansyah",
      "userId": "09249289355477225882"
     }
    },
    "outputId": "2259ae34-a9f6-4267-838a-9f37c198d881",
    "ExecuteTime": {
     "end_time": "2025-06-28T04:14:57.691844Z",
     "start_time": "2025-06-28T04:14:56.707885Z"
    }
   },
   "outputs": [
    {
     "name": "stdout",
     "output_type": "stream",
     "text": [
      "0    False\n",
      "1    False\n",
      "2    False\n",
      "3    False\n",
      "4     True\n",
      "dtype: bool\n",
      "    Nama  Nilai\n",
      "0   Andi     85\n",
      "1   Budi     90\n",
      "2  Cindy     92\n",
      "3   Andi     88\n"
     ]
    }
   ],
   "execution_count": 1
  },
  {
   "cell_type": "markdown",
   "source": [
    "## Data Normalization and Scaling"
   ],
   "metadata": {
    "id": "P4UOecV38YA9"
   }
  },
  {
   "cell_type": "code",
   "source": [
    "# Membuat DataFrame dengan data yang perlu dinormalisasi\n",
    "data = {'Nilai': [85, 90, 92, 88, 95]}\n",
    "\n",
    "df = pd.DataFrame(data)\n",
    "\n",
    "# Normalisasi data menggunakan Min-Max scaling\n",
    "df_normalized = (df - df.min()) / (df.max() - df.min())\n",
    "print(df_normalized)\n"
   ],
   "metadata": {
    "colab": {
     "base_uri": "https://localhost:8080/"
    },
    "id": "Wo2_pCoW8mKd",
    "executionInfo": {
     "status": "ok",
     "timestamp": 1688995001834,
     "user_tz": -420,
     "elapsed": 7,
     "user": {
      "displayName": "Rian Febriansyah",
      "userId": "09249289355477225882"
     }
    },
    "outputId": "868ef117-8d3e-4d9e-cb45-8bf048bd94a9",
    "ExecuteTime": {
     "end_time": "2025-06-28T04:15:30.476513Z",
     "start_time": "2025-06-28T04:15:30.461507Z"
    }
   },
   "outputs": [
    {
     "name": "stdout",
     "output_type": "stream",
     "text": [
      "   Nilai\n",
      "0    0.0\n",
      "1    0.5\n",
      "2    0.7\n",
      "3    0.3\n",
      "4    1.0\n"
     ]
    }
   ],
   "execution_count": 2
  },
  {
   "cell_type": "markdown",
   "source": [
    "## Dealing with Outliers\n"
   ],
   "metadata": {
    "id": "BDs5kjjY8a-c"
   }
  },
  {
   "cell_type": "code",
   "metadata": {
    "colab": {
     "base_uri": "https://localhost:8080/"
    },
    "id": "uiOVv-3Q1B9M",
    "executionInfo": {
     "status": "ok",
     "timestamp": 1688995384480,
     "user_tz": -420,
     "elapsed": 7,
     "user": {
      "displayName": "Rian Febriansyah",
      "userId": "09249289355477225882"
     }
    },
    "outputId": "367d8b72-e57e-43b8-e4d7-5fd73b979180",
    "ExecuteTime": {
     "end_time": "2025-06-28T04:16:29.089376Z",
     "start_time": "2025-06-28T04:16:29.064433Z"
    }
   },
   "source": [
    "import numpy as np\n",
    "\n",
    "# Membuat DataFrame dengan data yang mengandung outliers\n",
    "data = {'Nilai': [85, 90, 92, 88, 200]}\n",
    "\n",
    "df = pd.DataFrame(data)\n",
    "\n",
    "# Mendeteksi outliers menggunakan z-score\n",
    "z_scores = np.abs((df - df.mean()) / df.std())\n",
    "outliers = df[z_scores > 1].dropna()\n",
    "print(\"Outliers:\")\n",
    "print(outliers)\n",
    "\n",
    "# Menghapus outliers\n",
    "df_no_outliers = df[z_scores <= 1].dropna()\n",
    "print(\"Data tanpa outliers:\")\n",
    "print(df_no_outliers)\n"
   ],
   "outputs": [
    {
     "name": "stdout",
     "output_type": "stream",
     "text": [
      "Outliers:\n",
      "   Nilai\n",
      "4  200.0\n",
      "Data tanpa outliers:\n",
      "   Nilai\n",
      "0   85.0\n",
      "1   90.0\n",
      "2   92.0\n",
      "3   88.0\n"
     ]
    }
   ],
   "execution_count": 3
  }
 ]
}
