{
 "cells": [
  {
   "cell_type": "markdown",
   "metadata": {
    "editable": true,
    "id": "A1lD-wYcBRlU",
    "slideshow": {
     "slide_type": ""
    },
    "tags": []
   },
   "source": [
    "# Linear Regression - Introduction and Data Preparation"
   ]
  },
  {
   "cell_type": "code",
   "execution_count": 1,
   "metadata": {
    "ExecuteTime": {
     "end_time": "2025-06-29T09:31:44.777807Z",
     "start_time": "2025-06-29T09:31:42.858816Z"
    },
    "editable": true,
    "id": "HuJaEoeLFOm5",
    "slideshow": {
     "slide_type": ""
    },
    "tags": []
   },
   "outputs": [],
   "source": [
    "import pandas as pd\n",
    "import numpy as np\n",
    "\n",
    "# Generate data random untuk contoh dataset\n",
    "np.random.seed(42)\n",
    "land_area = np.random.randint(100, 500, size=200)\n",
    "house_price = 150000 + 300 * land_area + np.random.randint(-50000, 50000, size=200)\n",
    "\n",
    "data = pd.DataFrame({'Luas_Tanah': land_area, 'Harga_Rumah': house_price})\n",
    "\n",
    "# Save data menjadi CSV\n",
    "data.to_csv('house_prices.csv', index=False)"
   ]
  },
  {
   "cell_type": "markdown",
   "metadata": {
    "id": "Kd7gzBrsF7dC"
   },
   "source": [
    "## Data Preparation"
   ]
  },
  {
   "cell_type": "code",
   "metadata": {
    "colab": {
     "base_uri": "https://localhost:8080/"
    },
    "editable": true,
    "executionInfo": {
     "elapsed": 469,
     "status": "ok",
     "timestamp": 1690691911176,
     "user": {
      "displayName": "Rian Febriansyah",
      "userId": "09249289355477225882"
     },
     "user_tz": -420
    },
    "id": "lYlKV8qCKihV",
    "outputId": "9d78b7dc-4c08-4a39-eace-d4123dd2e66c",
    "slideshow": {
     "slide_type": ""
    },
    "tags": [],
    "ExecuteTime": {
     "end_time": "2025-06-29T10:03:34.409941Z",
     "start_time": "2025-06-29T10:03:34.390844Z"
    }
   },
   "source": [
    "from sklearn.model_selection import train_test_split\n",
    "from sklearn.preprocessing import StandardScaler\n",
    "\n",
    "# Membaca data dari file CSV\n",
    "data = pd.read_csv('house_prices.csv')\n",
    "\n",
    "# Pisahkan variabel dependen (Y) dan independen (X)\n",
    "X = data[['Luas_Tanah']]\n",
    "y = data['Harga_Rumah']\n",
    "\n",
    "# Pisahkan data menjadi data latih dan data uji\n",
    "X_train, X_test, y_train, y_test = train_test_split(X, y, test_size=0.2, random_state=42)\n",
    "\n",
    "# Normalisasi data menggunakan StandardScaler\n",
    "scaler = StandardScaler()\n",
    "X_train_scaled = scaler.fit_transform(X_train)\n",
    "X_test_scaled = scaler.transform(X_test)\n",
    "\n",
    "print(\"X Train\", X_train)\n",
    "\n",
    "print(\"Y Train\", y_train)"
   ],
   "outputs": [
    {
     "name": "stdout",
     "output_type": "stream",
     "text": [
      "X Train      Luas_Tanah\n",
      "79          301\n",
      "197         458\n",
      "38          150\n",
      "24          376\n",
      "122         300\n",
      "..          ...\n",
      "106         108\n",
      "14          459\n",
      "92          466\n",
      "179         127\n",
      "102         400\n",
      "\n",
      "[160 rows x 1 columns]\n",
      "Y Train 79     212218\n",
      "197    273177\n",
      "38     197662\n",
      "24     239536\n",
      "122    240108\n",
      "        ...  \n",
      "106    145274\n",
      "14     277053\n",
      "92     269655\n",
      "179    204335\n",
      "102    226295\n",
      "Name: Harga_Rumah, Length: 160, dtype: int64\n"
     ]
    }
   ],
   "execution_count": 5
  },
  {
   "cell_type": "code",
   "execution_count": null,
   "metadata": {
    "editable": true,
    "slideshow": {
     "slide_type": ""
    },
    "tags": []
   },
   "outputs": [],
   "source": []
  }
 ],
 "metadata": {
  "colab": {
   "authorship_tag": "ABX9TyPkEvszicHub1nxxyG34tTO",
   "provenance": []
  },
  "kernelspec": {
   "display_name": "Python 3 (ipykernel)",
   "language": "python",
   "name": "python3"
  },
  "language_info": {
   "codemirror_mode": {
    "name": "ipython",
    "version": 3
   },
   "file_extension": ".py",
   "mimetype": "text/x-python",
   "name": "python",
   "nbconvert_exporter": "python",
   "pygments_lexer": "ipython3",
   "version": "3.13.3"
  }
 },
 "nbformat": 4,
 "nbformat_minor": 4
}
