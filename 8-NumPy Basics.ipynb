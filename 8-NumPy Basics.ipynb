{
 "nbformat": 4,
 "nbformat_minor": 0,
 "metadata": {
  "colab": {
   "provenance": []
  },
  "kernelspec": {
   "name": "python3",
   "display_name": "Python 3"
  },
  "language_info": {
   "name": "python"
  }
 },
 "cells": [
  {
   "cell_type": "markdown",
   "source": [
    "# NumPy Basics\n",
    "\n",
    "\n",
    "\n"
   ],
   "metadata": {
    "id": "8Isqss8MEa74"
   }
  },
  {
   "cell_type": "code",
   "metadata": {
    "id": "6TPQCSw-EVmT",
    "executionInfo": {
     "status": "ok",
     "timestamp": 1693135386258,
     "user_tz": -420,
     "elapsed": 4,
     "user": {
      "displayName": "Xnvl S",
      "userId": "09625641944926601818"
     }
    },
    "ExecuteTime": {
     "end_time": "2025-06-01T11:28:07.706414Z",
     "start_time": "2025-06-01T11:28:06.929863Z"
    }
   },
   "source": [
    "# import library numpy\n",
    "import numpy\n",
    "\n",
    "# import library numpy dengan menggunakan alias np\n",
    "import numpy as np"
   ],
   "outputs": [],
   "execution_count": 1
  },
  {
   "cell_type": "code",
   "source": [
    "# pembuatan array  menggunakan NumPy\n",
    "arr = np.array([1, 2, 3, 4, 5])\n",
    "\n",
    "print(arr)\n",
    "\n",
    "# menampilkan jenis tipe dari array\n",
    "print(type(arr))"
   ],
   "metadata": {
    "colab": {
     "base_uri": "https://localhost:8080/"
    },
    "id": "8wsbhubF7g8k",
    "executionInfo": {
     "status": "ok",
     "timestamp": 1693135390013,
     "user_tz": -420,
     "elapsed": 6,
     "user": {
      "displayName": "Xnvl S",
      "userId": "09625641944926601818"
     }
    },
    "outputId": "5e2b400c-25ac-46f6-d68a-4db83a258919",
    "ExecuteTime": {
     "end_time": "2025-06-01T11:46:51.556387Z",
     "start_time": "2025-06-01T11:46:51.552731Z"
    }
   },
   "outputs": [
    {
     "name": "stdout",
     "output_type": "stream",
     "text": [
      "[1 2 3 4 5]\n",
      "<class 'numpy.ndarray'>\n"
     ]
    }
   ],
   "execution_count": 9
  },
  {
   "cell_type": "code",
   "source": [
    "# pembuatan array  menggunakan NumPy berbasis Tuple\n",
    "arr = np.array((1, 2, 3, 4, 5))\n",
    "\n",
    "print(arr)\n",
    "\n",
    "# menampilkan jenis tipe dari array\n",
    "print(type(arr))"
   ],
   "metadata": {
    "colab": {
     "base_uri": "https://localhost:8080/"
    },
    "id": "74Zz7KTL8Cnz",
    "executionInfo": {
     "status": "ok",
     "timestamp": 1693135391025,
     "user_tz": -420,
     "elapsed": 3,
     "user": {
      "displayName": "Xnvl S",
      "userId": "09625641944926601818"
     }
    },
    "outputId": "51cd9e69-1a6a-4f95-f610-9a8fe3415313",
    "ExecuteTime": {
     "end_time": "2025-06-01T11:47:01.925312Z",
     "start_time": "2025-06-01T11:47:01.921666Z"
    }
   },
   "outputs": [
    {
     "name": "stdout",
     "output_type": "stream",
     "text": [
      "[1 2 3 4 5]\n",
      "<class 'numpy.ndarray'>\n"
     ]
    }
   ],
   "execution_count": 10
  },
  {
   "cell_type": "markdown",
   "source": [
    "## Dimensi Array\n"
   ],
   "metadata": {
    "id": "H-j8R8mx8Lu1"
   }
  },
  {
   "cell_type": "code",
   "source": [
    "# array 1D\n",
    "arr1d = np.array([1, 2, 3, 4, 5])\n",
    "# array 2D\n",
    "arr2d = np.array([[1, 2, 3], [4, 5, 6]])\n",
    "# array 3D\n",
    "arr3d = np.array([[[1, 2, 3], [4, 5, 6]], [[1, 2, 3], [4, 5, 6]]])\n",
    "# dimensi yang lebih tinggi\n",
    "arr5d = np.array([1, 2, 3, 4], ndmin=5)\n",
    "\n",
    "# menampilkan dimensi dari array\n",
    "print(\"Dimensi: \", arr1d.ndim)\n",
    "print(\"Dimensi: \", arr2d.ndim)\n",
    "print(\"Dimensi: \", arr3d.ndim)\n",
    "print(\"Dimensi: \", arr5d.ndim)"
   ],
   "metadata": {
    "colab": {
     "base_uri": "https://localhost:8080/"
    },
    "id": "btSp6geQ8OEk",
    "executionInfo": {
     "status": "ok",
     "timestamp": 1693135409077,
     "user_tz": -420,
     "elapsed": 534,
     "user": {
      "displayName": "Xnvl S",
      "userId": "09625641944926601818"
     }
    },
    "outputId": "f2300bc2-4fdb-4208-e275-7fbb034c2b59",
    "ExecuteTime": {
     "end_time": "2025-06-01T11:28:40.406650Z",
     "start_time": "2025-06-01T11:28:40.396396Z"
    }
   },
   "outputs": [
    {
     "name": "stdout",
     "output_type": "stream",
     "text": [
      "Dimensi:  1\n",
      "Dimensi:  2\n",
      "Dimensi:  3\n",
      "Dimensi:  5\n"
     ]
    }
   ],
   "execution_count": 4
  },
  {
   "cell_type": "markdown",
   "source": [
    "## Accessing Array"
   ],
   "metadata": {
    "id": "1bwfHkSa92Lo"
   }
  },
  {
   "cell_type": "code",
   "source": [
    "# mengakses dengan menggunakan index\n",
    "arr = np.array([1, 2, 3, 4])\n",
    "print(arr[0])\n",
    "\n",
    "# mengakses array 2D dengan menggunakan index\n",
    "arr = np.array([[1,2,3,4,5], [6,7,8,9,10]])\n",
    "print('2nd element on 1st row: ', arr[0, 1])\n",
    "\n",
    "# menggunakan index negatif\n",
    "arr = np.array([[1,2,3,4,5], [6,7,8,9,10]])\n",
    "print('Last element from 2nd dim: ', arr[1, -1])"
   ],
   "metadata": {
    "colab": {
     "base_uri": "https://localhost:8080/"
    },
    "id": "GPIFulEh9_O9",
    "executionInfo": {
     "status": "ok",
     "timestamp": 1693135431040,
     "user_tz": -420,
     "elapsed": 303,
     "user": {
      "displayName": "Xnvl S",
      "userId": "09625641944926601818"
     }
    },
    "outputId": "6678e98a-386a-437c-f936-2ca793521abc",
    "ExecuteTime": {
     "end_time": "2025-06-01T11:29:01.764864Z",
     "start_time": "2025-06-01T11:29:01.753747Z"
    }
   },
   "outputs": [
    {
     "name": "stdout",
     "output_type": "stream",
     "text": [
      "1\n",
      "2nd element on 1st row:  2\n",
      "Last element from 2nd dim:  10\n"
     ]
    }
   ],
   "execution_count": 5
  },
  {
   "cell_type": "markdown",
   "source": [
    "## Reshaping & Resizing Array\n",
    "Digunakan untuk memodifikasi ukuran dan dimensi dari NumPy array"
   ],
   "metadata": {
    "id": "5AGzAd3eSzOZ"
   }
  },
  {
   "cell_type": "code",
   "metadata": {
    "colab": {
     "base_uri": "https://localhost:8080/"
    },
    "id": "NvHDs9PtCaTI",
    "executionInfo": {
     "status": "ok",
     "timestamp": 1693135463127,
     "user_tz": -420,
     "elapsed": 349,
     "user": {
      "displayName": "Xnvl S",
      "userId": "09625641944926601818"
     }
    },
    "outputId": "ea65795e-c892-4372-faf9-d34c7cac0964",
    "ExecuteTime": {
     "end_time": "2025-06-01T11:29:42.543523Z",
     "start_time": "2025-06-01T11:29:42.530975Z"
    }
   },
   "source": [
    "import numpy as np\n",
    "\n",
    "# Membuat array 1-dimensi\n",
    "array_1d = np.array([1, 2, 3, 4, 5, 6])\n",
    "\n",
    "# Melakukan reshape pada array menjadi ukuran 2-dimensi dengan 2 rows and 3 columns\n",
    "array_2d = array_1d.reshape(2, 3)\n",
    "\n",
    "print(\"Original array:\")\n",
    "print(array_1d)\n",
    "\n",
    "print(\"Reshaped array:\")\n",
    "print(array_2d)\n",
    "\n",
    "# Resize array menjadi array yang memiliki jumlah elemen berbeda\n",
    "resized_array = np.resize(array_1d, (3, 4))\n",
    "\n",
    "print(\"Resized array:\")\n",
    "print(resized_array)\n"
   ],
   "outputs": [
    {
     "name": "stdout",
     "output_type": "stream",
     "text": [
      "Original array:\n",
      "[1 2 3 4 5 6]\n",
      "Reshaped array:\n",
      "[[1 2 3]\n",
      " [4 5 6]]\n",
      "Resized array:\n",
      "[[1 2 3 4]\n",
      " [5 6 1 2]\n",
      " [3 4 5 6]]\n"
     ]
    }
   ],
   "execution_count": 7
  },
  {
   "cell_type": "markdown",
   "source": [
    "## Concatenating & Splitting Array\n",
    "Operasi ini berguna ketika bekerja dengan banyak array"
   ],
   "metadata": {
    "id": "trjn_lcVTvvI"
   }
  },
  {
   "cell_type": "code",
   "source": [
    "# Membuat 2 buah array 1D\n",
    "array1 = np.array([1, 2, 3])\n",
    "array2 = np.array([4, 5, 6])\n",
    "\n",
    "# Concate atau menggabungkan kedua array secara horizontal\n",
    "concatenated_array = np.concatenate((array1, array2), axis=0)\n",
    "\n",
    "print(\"Concatenated array:\")\n",
    "print(concatenated_array)\n",
    "\n",
    "# Split array menjadi bentuk awal\n",
    "split_arrays = np.split(concatenated_array, 2)\n",
    "\n",
    "print(\"Split arrays:\")\n",
    "print(split_arrays)"
   ],
   "metadata": {
    "colab": {
     "base_uri": "https://localhost:8080/"
    },
    "id": "N0k7TGSKD3c9",
    "executionInfo": {
     "status": "ok",
     "timestamp": 1693135493127,
     "user_tz": -420,
     "elapsed": 388,
     "user": {
      "displayName": "Xnvl S",
      "userId": "09625641944926601818"
     }
    },
    "outputId": "8634d614-ad49-47b5-bf4a-21781cfabe43",
    "ExecuteTime": {
     "end_time": "2025-06-01T11:30:14.036318Z",
     "start_time": "2025-06-01T11:30:14.026202Z"
    }
   },
   "outputs": [
    {
     "name": "stdout",
     "output_type": "stream",
     "text": [
      "Concatenated array:\n",
      "[1 2 3 4 5 6]\n",
      "Split arrays:\n",
      "[array([1, 2, 3]), array([4, 5, 6])]\n"
     ]
    }
   ],
   "execution_count": 8
  },
  {
   "cell_type": "markdown",
   "source": [
    "##Transposing & Swapping Array\n",
    "Digunakan untuk memanipulasi dimensi dan orientasi dari sebuah array di dalam NumPy"
   ],
   "metadata": {
    "id": "BiQQjTjnUZf2"
   }
  },
  {
   "cell_type": "code",
   "source": [
    "# Membuat array 2D\n",
    "array_2d = np.array([[1, 2, 3], [4, 5, 6]])\n",
    "\n",
    "print(\"Original array:\")\n",
    "print(array_2d)\n",
    "\n",
    "# Transpose array\n",
    "transposed_array = np.transpose(array_2d)\n",
    "\n",
    "print(\"Transposed array:\")\n",
    "print(transposed_array)\n",
    "\n",
    "# Swap atau menukar index dari array\n",
    "swapped_array = np.swapaxes(array_2d, 0, 1)\n",
    "\n",
    "print(\"Swapped array:\")\n",
    "print(swapped_array)\n"
   ],
   "metadata": {
    "colab": {
     "base_uri": "https://localhost:8080/"
    },
    "id": "Y05fp3w8EEHu",
    "executionInfo": {
     "status": "ok",
     "timestamp": 1693135518218,
     "user_tz": -420,
     "elapsed": 417,
     "user": {
      "displayName": "Xnvl S",
      "userId": "09625641944926601818"
     }
    },
    "outputId": "fd633d2c-d50f-4d94-b2d1-d4773874453f"
   },
   "execution_count": 8,
   "outputs": [
    {
     "output_type": "stream",
     "name": "stdout",
     "text": [
      "Original array:\n",
      "[[1 2 3]\n",
      " [4 5 6]]\n",
      "Transposed array:\n",
      "[[1 4]\n",
      " [2 5]\n",
      " [3 6]]\n",
      "Swapped array:\n",
      "[[1 4]\n",
      " [2 5]\n",
      " [3 6]]\n"
     ]
    }
   ]
  }
 ]
}
